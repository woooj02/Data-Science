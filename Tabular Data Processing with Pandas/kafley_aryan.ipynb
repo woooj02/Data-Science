{
 "cells": [
  {
   "cell_type": "markdown",
   "metadata": {},
   "source": [
    "<img src=\"Branded_Logo_CUDenver.PNG\" width=\"150\">\n",
    "\n",
    "## <center>CSCI 4580/5580 - Data Science – Spring 2022</center>\n",
    "<center>Lab 5: Tabular Data Processing with Pandas</center><center><font color='red'>Deadline: March 8, 2022 - 11:59 PM</font></center><center>Total Points: 100</center>"
   ]
  },
  {
   "cell_type": "markdown",
   "metadata": {},
   "source": [
    "## Instructions\n",
    "- Please note that this lab must be done individually. By submitting this lab, you certify that this is your own work, your code will be checked against other submissions and resources using automatic tools. Everyone should be getting a hands on experience in this course. You are free to discuss course material with fellow students, and we encourage you to use Internet resources to aid your understanding, but the work you turn in, including all code and answers, must be your own work."
   ]
  },
  {
   "cell_type": "markdown",
   "metadata": {},
   "source": [
    "## Deliverables\n",
    "You need to submit a single .ipynb file on Canvas, named your-lastname_your-first-name.ipynb. For example, if your name is John Smith, you should name the file smith_john.ipynb.\n",
    "- Please do not include extra files such as the input datasets in your submission.\n",
    "- Answer Questions 1 - 11 in the designated cells. Please do not add or remove any cells. \n",
    "- Please download your submission file after submission and make sure it is not corrupted. Use the 'Run All' option from the 'Cell' menu to ensure all cells run without any issues. We will not be responsible for corrupted submissions and will not take a resubmission after the deadline."
   ]
  },
  {
   "cell_type": "markdown",
   "metadata": {},
   "source": [
    "## Need Help?\n",
    "If you need help with this lab, please email me at sundous.hussein@ucdenver.edu or come to my office hours. We also encourage you to ask your questions on the designated channel for the lab on Microsoft Teams. This way, you may receive assistance from your classmates that might’ve ran through the same issues."
   ]
  },
  {
   "cell_type": "markdown",
   "metadata": {},
   "source": [
    "****"
   ]
  },
  {
   "cell_type": "markdown",
   "metadata": {},
   "source": [
    "In this lab, we will look at how to work with data stored in a tabular form and perform exploratory data analysis on it. We will be using the Python Data Analysis Library (aka Pandas) to do this."
   ]
  },
  {
   "cell_type": "markdown",
   "metadata": {},
   "source": [
    "## Introducting Pandas"
   ]
  },
  {
   "cell_type": "markdown",
   "metadata": {},
   "source": [
    "The two main data structures that Pandas support are Series and DataFrames. Series are one-dimensional data structures that are a collection of any numpy data type. DataFrames on the other hand are two dimensional data structures which resemble a database table or say an Excel spreadsheet. In this lab we will primarily be using DataFrames and will look at operations that we can perform using them.\n",
    "\n",
    "Before you start, download the following datasets from Canvas:\n",
    ">wc_day6_1_samples.csv <br/>\n",
    ">restaurants.csv"
   ]
  },
  {
   "cell_type": "code",
   "execution_count": 1,
   "metadata": {},
   "outputs": [],
   "source": [
    "from pylab import *\n",
    "%matplotlib inline\n",
    "import pandas as pd\n",
    "df = pd.DataFrame( { 'a' : [1, 2, 3, 4], 'b': [ 'w', 'x', 'y', 'z'] })"
   ]
  },
  {
   "cell_type": "markdown",
   "metadata": {},
   "source": [
    "If you need clarifications about the Pandas API you can type the function name followed by ? to get inline help. For example to get help with the above call run:"
   ]
  },
  {
   "cell_type": "code",
   "execution_count": 2,
   "metadata": {},
   "outputs": [],
   "source": [
    "pd.DataFrame?"
   ]
  },
  {
   "cell_type": "markdown",
   "metadata": {},
   "source": [
    "If you want to see the same in a browser lookup the function in the <a href=\"http://pandas.pydata.org/pandas-docs/stable/api.html\">API documentation</a>"
   ]
  },
  {
   "cell_type": "markdown",
   "metadata": {},
   "source": [
    "## DataFrame Basics"
   ]
  },
  {
   "cell_type": "markdown",
   "metadata": {},
   "source": [
    "The simplest way to see what is in a DataFrame is to just print it to the console. For example to see the DataFrame we created before you can just type df and see something like"
   ]
  },
  {
   "cell_type": "code",
   "execution_count": 3,
   "metadata": {},
   "outputs": [
    {
     "data": {
      "text/html": [
       "<div>\n",
       "<style scoped>\n",
       "    .dataframe tbody tr th:only-of-type {\n",
       "        vertical-align: middle;\n",
       "    }\n",
       "\n",
       "    .dataframe tbody tr th {\n",
       "        vertical-align: top;\n",
       "    }\n",
       "\n",
       "    .dataframe thead th {\n",
       "        text-align: right;\n",
       "    }\n",
       "</style>\n",
       "<table border=\"1\" class=\"dataframe\">\n",
       "  <thead>\n",
       "    <tr style=\"text-align: right;\">\n",
       "      <th></th>\n",
       "      <th>a</th>\n",
       "      <th>b</th>\n",
       "    </tr>\n",
       "  </thead>\n",
       "  <tbody>\n",
       "    <tr>\n",
       "      <th>0</th>\n",
       "      <td>1</td>\n",
       "      <td>w</td>\n",
       "    </tr>\n",
       "    <tr>\n",
       "      <th>1</th>\n",
       "      <td>2</td>\n",
       "      <td>x</td>\n",
       "    </tr>\n",
       "    <tr>\n",
       "      <th>2</th>\n",
       "      <td>3</td>\n",
       "      <td>y</td>\n",
       "    </tr>\n",
       "    <tr>\n",
       "      <th>3</th>\n",
       "      <td>4</td>\n",
       "      <td>z</td>\n",
       "    </tr>\n",
       "  </tbody>\n",
       "</table>\n",
       "</div>"
      ],
      "text/plain": [
       "   a  b\n",
       "0  1  w\n",
       "1  2  x\n",
       "2  3  y\n",
       "3  4  z"
      ]
     },
     "execution_count": 3,
     "metadata": {},
     "output_type": "execute_result"
    }
   ],
   "source": [
    "df"
   ]
  },
  {
   "cell_type": "markdown",
   "metadata": {},
   "source": [
    "This shows that we have two columnns 'a' and 'b' and four rows in our DataFrame.\n",
    "\n",
    "However large DataFrames cannot be printed to the console and we have higher level commands to inspect its contents. To get information on the schema of the DataFrames, we can use the info function"
   ]
  },
  {
   "cell_type": "code",
   "execution_count": 4,
   "metadata": {},
   "outputs": [
    {
     "name": "stdout",
     "output_type": "stream",
     "text": [
      "<class 'pandas.core.frame.DataFrame'>\n",
      "RangeIndex: 4 entries, 0 to 3\n",
      "Data columns (total 2 columns):\n",
      " #   Column  Non-Null Count  Dtype \n",
      "---  ------  --------------  ----- \n",
      " 0   a       4 non-null      int64 \n",
      " 1   b       4 non-null      object\n",
      "dtypes: int64(1), object(1)\n",
      "memory usage: 192.0+ bytes\n"
     ]
    }
   ],
   "source": [
    "df.info()"
   ]
  },
  {
   "cell_type": "markdown",
   "metadata": {},
   "source": [
    "To see the first few rows you can use <code>head</code> and to see the last few rows you can use <code>tail</code>. This is similar to the UNIX-command line tools (Remember Lab 1 !?)"
   ]
  },
  {
   "cell_type": "code",
   "execution_count": 5,
   "metadata": {},
   "outputs": [
    {
     "data": {
      "text/html": [
       "<div>\n",
       "<style scoped>\n",
       "    .dataframe tbody tr th:only-of-type {\n",
       "        vertical-align: middle;\n",
       "    }\n",
       "\n",
       "    .dataframe tbody tr th {\n",
       "        vertical-align: top;\n",
       "    }\n",
       "\n",
       "    .dataframe thead th {\n",
       "        text-align: right;\n",
       "    }\n",
       "</style>\n",
       "<table border=\"1\" class=\"dataframe\">\n",
       "  <thead>\n",
       "    <tr style=\"text-align: right;\">\n",
       "      <th></th>\n",
       "      <th>a</th>\n",
       "      <th>b</th>\n",
       "    </tr>\n",
       "  </thead>\n",
       "  <tbody>\n",
       "    <tr>\n",
       "      <th>0</th>\n",
       "      <td>1</td>\n",
       "      <td>w</td>\n",
       "    </tr>\n",
       "    <tr>\n",
       "      <th>1</th>\n",
       "      <td>2</td>\n",
       "      <td>x</td>\n",
       "    </tr>\n",
       "  </tbody>\n",
       "</table>\n",
       "</div>"
      ],
      "text/plain": [
       "   a  b\n",
       "0  1  w\n",
       "1  2  x"
      ]
     },
     "execution_count": 5,
     "metadata": {},
     "output_type": "execute_result"
    }
   ],
   "source": [
    "df.head(2)"
   ]
  },
  {
   "cell_type": "markdown",
   "metadata": {},
   "source": [
    "To print any range of rows from the DataFrame you can use array-like indexing of row ids. As you might have noticed rows are numbered from 0 in Pandas, so to get the middle two rows we can use the range 1:3"
   ]
  },
  {
   "cell_type": "code",
   "execution_count": 6,
   "metadata": {
    "scrolled": true
   },
   "outputs": [
    {
     "data": {
      "text/html": [
       "<div>\n",
       "<style scoped>\n",
       "    .dataframe tbody tr th:only-of-type {\n",
       "        vertical-align: middle;\n",
       "    }\n",
       "\n",
       "    .dataframe tbody tr th {\n",
       "        vertical-align: top;\n",
       "    }\n",
       "\n",
       "    .dataframe thead th {\n",
       "        text-align: right;\n",
       "    }\n",
       "</style>\n",
       "<table border=\"1\" class=\"dataframe\">\n",
       "  <thead>\n",
       "    <tr style=\"text-align: right;\">\n",
       "      <th></th>\n",
       "      <th>a</th>\n",
       "      <th>b</th>\n",
       "    </tr>\n",
       "  </thead>\n",
       "  <tbody>\n",
       "    <tr>\n",
       "      <th>1</th>\n",
       "      <td>2</td>\n",
       "      <td>x</td>\n",
       "    </tr>\n",
       "    <tr>\n",
       "      <th>2</th>\n",
       "      <td>3</td>\n",
       "      <td>y</td>\n",
       "    </tr>\n",
       "  </tbody>\n",
       "</table>\n",
       "</div>"
      ],
      "text/plain": [
       "   a  b\n",
       "1  2  x\n",
       "2  3  y"
      ]
     },
     "execution_count": 6,
     "metadata": {},
     "output_type": "execute_result"
    }
   ],
   "source": [
    "df[1:3]"
   ]
  },
  {
   "cell_type": "markdown",
   "metadata": {},
   "source": [
    "Finally, Pandas also has a useful function describe that summarizes the contents of numerical columns in a DataFrame. For example in `df` we can see the mean, standard deviation etc. for the column `a` by running describe."
   ]
  },
  {
   "cell_type": "markdown",
   "metadata": {},
   "source": [
    "Having worked our way through the basics, let's now see how we can use Pandas for data analysis. To do this part of the lab we will reuse the World Cup soccer logs. However this time the input data has been sampled and formatted as a csv file that you will load first:"
   ]
  },
  {
   "cell_type": "code",
   "execution_count": 7,
   "metadata": {},
   "outputs": [],
   "source": [
    "log_df = pd.read_csv(\"wc_day6_1_sample.csv\",\n",
    "                     names=['ClientID', 'Date', 'Time', 'URL', 'ResponseCode', 'Size'],\n",
    "                     na_values=['-'], encoding=\"cp1250\")"
   ]
  },
  {
   "cell_type": "markdown",
   "metadata": {},
   "source": [
    "The names argument tells Pandas what the column names are in our file and na_values indicates what character is used for missing values in our dataset. Use the commands from the previous section to explore the dataset and its summary statistics."
   ]
  },
  {
   "cell_type": "markdown",
   "metadata": {},
   "source": [
    "> Question 1) How many rows are present in log_df?"
   ]
  },
  {
   "cell_type": "code",
   "execution_count": 8,
   "metadata": {},
   "outputs": [
    {
     "data": {
      "text/plain": [
       "200000"
      ]
     },
     "execution_count": 8,
     "metadata": {},
     "output_type": "execute_result"
    }
   ],
   "source": [
    "# Add your answer to Question 1 here\n",
    "#length of the dataframe, which is also the no of the rows = 200000.\n",
    "len(log_df)\n"
   ]
  },
  {
   "cell_type": "markdown",
   "metadata": {},
   "source": [
    "> Question 2) What are the URLs between rows 85 and 87 inclusive ?"
   ]
  },
  {
   "cell_type": "code",
   "execution_count": 9,
   "metadata": {},
   "outputs": [
    {
     "name": "stdout",
     "output_type": "stream",
     "text": [
      "URL    /images/s102443.gif\n",
      "Name: 84, dtype: object\n",
      "URL    /english/nav_top_inet.html\n",
      "Name: 85, dtype: object\n",
      "URL    /images/teams_hm_bg.jpg\n",
      "Name: 86, dtype: object\n"
     ]
    }
   ],
   "source": [
    "# Add your answer to Question 2 here\n",
    "for x in range(84,87):\n",
    "    print(log_df[['URL' ]].iloc[x])\n",
    "    \n",
    "#The url are in the output followed with name and its type"
   ]
  },
  {
   "cell_type": "markdown",
   "metadata": {},
   "source": [
    "## SQL-like operators"
   ]
  },
  {
   "cell_type": "markdown",
   "metadata": {},
   "source": [
    "Next we will look at operators in Pandas that allow us to perform SQL-like queries on the dataset."
   ]
  },
  {
   "cell_type": "markdown",
   "metadata": {},
   "source": [
    "### Selection"
   ]
  },
  {
   "cell_type": "markdown",
   "metadata": {},
   "source": [
    "A SQL statement typically selects a subset of rows from a table that match a given criteria. This is known as the <a href=\"https://en.wikipedia.org/wiki/Relational_algebra\">Selection</a> operator in Relational Algebra. Similarly we can perform selections in Pandas using boolean indexing.\n",
    "\n",
    "Boolean indexing refers to a technique where you can use a list of boolean values to filter a DataFrame. For example let's say we only want entries from '01/May/1998'. To do this we can create a boolean list like"
   ]
  },
  {
   "cell_type": "code",
   "execution_count": 10,
   "metadata": {},
   "outputs": [
    {
     "data": {
      "text/plain": [
       "0    False\n",
       "1     True\n",
       "Name: Date, dtype: bool"
      ]
     },
     "execution_count": 10,
     "metadata": {},
     "output_type": "execute_result"
    }
   ],
   "source": [
    "is_may1st = log_df['Date'] == '01/May/1998'\n",
    "is_may1st.head(2)"
   ]
  },
  {
   "cell_type": "markdown",
   "metadata": {},
   "source": [
    "Now we can filter our DataFrame by passing it the boolean list."
   ]
  },
  {
   "cell_type": "code",
   "execution_count": 11,
   "metadata": {},
   "outputs": [
    {
     "data": {
      "text/html": [
       "<div>\n",
       "<style scoped>\n",
       "    .dataframe tbody tr th:only-of-type {\n",
       "        vertical-align: middle;\n",
       "    }\n",
       "\n",
       "    .dataframe tbody tr th {\n",
       "        vertical-align: top;\n",
       "    }\n",
       "\n",
       "    .dataframe thead th {\n",
       "        text-align: right;\n",
       "    }\n",
       "</style>\n",
       "<table border=\"1\" class=\"dataframe\">\n",
       "  <thead>\n",
       "    <tr style=\"text-align: right;\">\n",
       "      <th></th>\n",
       "      <th>ClientID</th>\n",
       "      <th>Date</th>\n",
       "      <th>Time</th>\n",
       "      <th>URL</th>\n",
       "      <th>ResponseCode</th>\n",
       "      <th>Size</th>\n",
       "    </tr>\n",
       "  </thead>\n",
       "  <tbody>\n",
       "    <tr>\n",
       "      <th>1</th>\n",
       "      <td>10871</td>\n",
       "      <td>01/May/1998</td>\n",
       "      <td>12:10:53</td>\n",
       "      <td>/images/ligne.gif</td>\n",
       "      <td>200.0</td>\n",
       "      <td>169.0</td>\n",
       "    </tr>\n",
       "    <tr>\n",
       "      <th>2</th>\n",
       "      <td>11012</td>\n",
       "      <td>01/May/1998</td>\n",
       "      <td>12:17:30</td>\n",
       "      <td>/english/individuals/player111503.htm</td>\n",
       "      <td>200.0</td>\n",
       "      <td>7027.0</td>\n",
       "    </tr>\n",
       "    <tr>\n",
       "      <th>3</th>\n",
       "      <td>11435</td>\n",
       "      <td>01/May/1998</td>\n",
       "      <td>13:15:13</td>\n",
       "      <td>/french/frntpage.htm</td>\n",
       "      <td>304.0</td>\n",
       "      <td>0.0</td>\n",
       "    </tr>\n",
       "    <tr>\n",
       "      <th>4</th>\n",
       "      <td>12128</td>\n",
       "      <td>01/May/1998</td>\n",
       "      <td>13:30:21</td>\n",
       "      <td>/english/images/nav_sitemap_off.gif</td>\n",
       "      <td>304.0</td>\n",
       "      <td>NaN</td>\n",
       "    </tr>\n",
       "    <tr>\n",
       "      <th>5</th>\n",
       "      <td>13649</td>\n",
       "      <td>01/May/1998</td>\n",
       "      <td>14:55:01</td>\n",
       "      <td>/images/hm_anime_e.gif</td>\n",
       "      <td>200.0</td>\n",
       "      <td>15609.0</td>\n",
       "    </tr>\n",
       "  </tbody>\n",
       "</table>\n",
       "</div>"
      ],
      "text/plain": [
       "   ClientID         Date      Time                                    URL  \\\n",
       "1     10871  01/May/1998  12:10:53                      /images/ligne.gif   \n",
       "2     11012  01/May/1998  12:17:30  /english/individuals/player111503.htm   \n",
       "3     11435  01/May/1998  13:15:13                   /french/frntpage.htm   \n",
       "4     12128  01/May/1998  13:30:21    /english/images/nav_sitemap_off.gif   \n",
       "5     13649  01/May/1998  14:55:01                 /images/hm_anime_e.gif   \n",
       "\n",
       "   ResponseCode     Size  \n",
       "1         200.0    169.0  \n",
       "2         200.0   7027.0  \n",
       "3         304.0      0.0  \n",
       "4         304.0      NaN  \n",
       "5         200.0  15609.0  "
      ]
     },
     "execution_count": 11,
     "metadata": {},
     "output_type": "execute_result"
    }
   ],
   "source": [
    "may1_df = log_df[is_may1st]\n",
    "may1_df.head()"
   ]
  },
  {
   "cell_type": "markdown",
   "metadata": {},
   "source": [
    "Or we can directly do this by passing in the boolean clause to the DataFrame"
   ]
  },
  {
   "cell_type": "code",
   "execution_count": 12,
   "metadata": {},
   "outputs": [
    {
     "data": {
      "text/html": [
       "<div>\n",
       "<style scoped>\n",
       "    .dataframe tbody tr th:only-of-type {\n",
       "        vertical-align: middle;\n",
       "    }\n",
       "\n",
       "    .dataframe tbody tr th {\n",
       "        vertical-align: top;\n",
       "    }\n",
       "\n",
       "    .dataframe thead th {\n",
       "        text-align: right;\n",
       "    }\n",
       "</style>\n",
       "<table border=\"1\" class=\"dataframe\">\n",
       "  <thead>\n",
       "    <tr style=\"text-align: right;\">\n",
       "      <th></th>\n",
       "      <th>ClientID</th>\n",
       "      <th>Date</th>\n",
       "      <th>Time</th>\n",
       "      <th>URL</th>\n",
       "      <th>ResponseCode</th>\n",
       "      <th>Size</th>\n",
       "    </tr>\n",
       "  </thead>\n",
       "  <tbody>\n",
       "    <tr>\n",
       "      <th>1</th>\n",
       "      <td>10871</td>\n",
       "      <td>01/May/1998</td>\n",
       "      <td>12:10:53</td>\n",
       "      <td>/images/ligne.gif</td>\n",
       "      <td>200.0</td>\n",
       "      <td>169.0</td>\n",
       "    </tr>\n",
       "    <tr>\n",
       "      <th>2</th>\n",
       "      <td>11012</td>\n",
       "      <td>01/May/1998</td>\n",
       "      <td>12:17:30</td>\n",
       "      <td>/english/individuals/player111503.htm</td>\n",
       "      <td>200.0</td>\n",
       "      <td>7027.0</td>\n",
       "    </tr>\n",
       "    <tr>\n",
       "      <th>3</th>\n",
       "      <td>11435</td>\n",
       "      <td>01/May/1998</td>\n",
       "      <td>13:15:13</td>\n",
       "      <td>/french/frntpage.htm</td>\n",
       "      <td>304.0</td>\n",
       "      <td>0.0</td>\n",
       "    </tr>\n",
       "    <tr>\n",
       "      <th>4</th>\n",
       "      <td>12128</td>\n",
       "      <td>01/May/1998</td>\n",
       "      <td>13:30:21</td>\n",
       "      <td>/english/images/nav_sitemap_off.gif</td>\n",
       "      <td>304.0</td>\n",
       "      <td>NaN</td>\n",
       "    </tr>\n",
       "    <tr>\n",
       "      <th>5</th>\n",
       "      <td>13649</td>\n",
       "      <td>01/May/1998</td>\n",
       "      <td>14:55:01</td>\n",
       "      <td>/images/hm_anime_e.gif</td>\n",
       "      <td>200.0</td>\n",
       "      <td>15609.0</td>\n",
       "    </tr>\n",
       "  </tbody>\n",
       "</table>\n",
       "</div>"
      ],
      "text/plain": [
       "   ClientID         Date      Time                                    URL  \\\n",
       "1     10871  01/May/1998  12:10:53                      /images/ligne.gif   \n",
       "2     11012  01/May/1998  12:17:30  /english/individuals/player111503.htm   \n",
       "3     11435  01/May/1998  13:15:13                   /french/frntpage.htm   \n",
       "4     12128  01/May/1998  13:30:21    /english/images/nav_sitemap_off.gif   \n",
       "5     13649  01/May/1998  14:55:01                 /images/hm_anime_e.gif   \n",
       "\n",
       "   ResponseCode     Size  \n",
       "1         200.0    169.0  \n",
       "2         200.0   7027.0  \n",
       "3         304.0      0.0  \n",
       "4         304.0      NaN  \n",
       "5         200.0  15609.0  "
      ]
     },
     "execution_count": 12,
     "metadata": {},
     "output_type": "execute_result"
    }
   ],
   "source": [
    "may1_df = log_df[log_df['Date'] == '01/May/1998']\n",
    "may1_df.head()"
   ]
  },
  {
   "cell_type": "markdown",
   "metadata": {},
   "source": [
    "## Projection"
   ]
  },
  {
   "cell_type": "markdown",
   "metadata": {},
   "source": [
    "While selection is used for filtering rows, <a href=\"https://en.wikipedia.org/wiki/Relational_algebra\">Projection</a> is the relational algebra operator used to select columns. To do this with Pandas we just need to pass in a list of columns that we wish to select. For example to only keep the 'URL' and 'ResponseCode' column we would run"
   ]
  },
  {
   "cell_type": "code",
   "execution_count": 13,
   "metadata": {
    "scrolled": true
   },
   "outputs": [
    {
     "data": {
      "text/html": [
       "<div>\n",
       "<style scoped>\n",
       "    .dataframe tbody tr th:only-of-type {\n",
       "        vertical-align: middle;\n",
       "    }\n",
       "\n",
       "    .dataframe tbody tr th {\n",
       "        vertical-align: top;\n",
       "    }\n",
       "\n",
       "    .dataframe thead th {\n",
       "        text-align: right;\n",
       "    }\n",
       "</style>\n",
       "<table border=\"1\" class=\"dataframe\">\n",
       "  <thead>\n",
       "    <tr style=\"text-align: right;\">\n",
       "      <th></th>\n",
       "      <th>URL</th>\n",
       "      <th>ResponseCode</th>\n",
       "    </tr>\n",
       "  </thead>\n",
       "  <tbody>\n",
       "    <tr>\n",
       "      <th>0</th>\n",
       "      <td>/images/11104.gif</td>\n",
       "      <td>200.0</td>\n",
       "    </tr>\n",
       "    <tr>\n",
       "      <th>1</th>\n",
       "      <td>/images/ligne.gif</td>\n",
       "      <td>200.0</td>\n",
       "    </tr>\n",
       "    <tr>\n",
       "      <th>2</th>\n",
       "      <td>/english/individuals/player111503.htm</td>\n",
       "      <td>200.0</td>\n",
       "    </tr>\n",
       "    <tr>\n",
       "      <th>3</th>\n",
       "      <td>/french/frntpage.htm</td>\n",
       "      <td>304.0</td>\n",
       "    </tr>\n",
       "    <tr>\n",
       "      <th>4</th>\n",
       "      <td>/english/images/nav_sitemap_off.gif</td>\n",
       "      <td>304.0</td>\n",
       "    </tr>\n",
       "  </tbody>\n",
       "</table>\n",
       "</div>"
      ],
      "text/plain": [
       "                                     URL  ResponseCode\n",
       "0                      /images/11104.gif         200.0\n",
       "1                      /images/ligne.gif         200.0\n",
       "2  /english/individuals/player111503.htm         200.0\n",
       "3                   /french/frntpage.htm         304.0\n",
       "4    /english/images/nav_sitemap_off.gif         304.0"
      ]
     },
     "execution_count": 13,
     "metadata": {},
     "output_type": "execute_result"
    }
   ],
   "source": [
    "url_codes = log_df[['URL', 'ResponseCode']]\n",
    "url_codes.head(5)"
   ]
  },
  {
   "cell_type": "markdown",
   "metadata": {},
   "source": [
    "## Grouping"
   ]
  },
  {
   "cell_type": "markdown",
   "metadata": {},
   "source": [
    "Pandas also allows you to group the DataFrame by values in any column. For example to group requests by 'ResponseCode' you can run"
   ]
  },
  {
   "cell_type": "code",
   "execution_count": 14,
   "metadata": {},
   "outputs": [
    {
     "data": {
      "text/plain": [
       "<pandas.core.groupby.generic.DataFrameGroupBy object at 0x000001FD3B1A5520>"
      ]
     },
     "execution_count": 14,
     "metadata": {},
     "output_type": "execute_result"
    }
   ],
   "source": [
    "grouped = log_df.groupby('ResponseCode')\n",
    "grouped"
   ]
  },
  {
   "cell_type": "markdown",
   "metadata": {},
   "source": [
    "As you can see from the output above, grouped is not a DataFrame but an object of type DataFrameGroupBy. This just means that it contains a number of groups and each group is in turn a DataFrame. To see this try"
   ]
  },
  {
   "cell_type": "code",
   "execution_count": 15,
   "metadata": {},
   "outputs": [
    {
     "data": {
      "text/plain": [
       "dict_keys([200.0, 206.0, 302.0, 304.0, 400.0, 404.0, 500.0])"
      ]
     },
     "execution_count": 15,
     "metadata": {},
     "output_type": "execute_result"
    }
   ],
   "source": [
    "grouped.ngroups\n",
    "grouped.groups.keys()"
   ]
  },
  {
   "cell_type": "code",
   "execution_count": 16,
   "metadata": {},
   "outputs": [
    {
     "data": {
      "text/html": [
       "<div>\n",
       "<style scoped>\n",
       "    .dataframe tbody tr th:only-of-type {\n",
       "        vertical-align: middle;\n",
       "    }\n",
       "\n",
       "    .dataframe tbody tr th {\n",
       "        vertical-align: top;\n",
       "    }\n",
       "\n",
       "    .dataframe thead th {\n",
       "        text-align: right;\n",
       "    }\n",
       "</style>\n",
       "<table border=\"1\" class=\"dataframe\">\n",
       "  <thead>\n",
       "    <tr style=\"text-align: right;\">\n",
       "      <th></th>\n",
       "      <th>ClientID</th>\n",
       "      <th>Date</th>\n",
       "      <th>Time</th>\n",
       "      <th>URL</th>\n",
       "      <th>ResponseCode</th>\n",
       "      <th>Size</th>\n",
       "    </tr>\n",
       "  </thead>\n",
       "  <tbody>\n",
       "    <tr>\n",
       "      <th>3</th>\n",
       "      <td>11435</td>\n",
       "      <td>01/May/1998</td>\n",
       "      <td>13:15:13</td>\n",
       "      <td>/french/frntpage.htm</td>\n",
       "      <td>304.0</td>\n",
       "      <td>0.0</td>\n",
       "    </tr>\n",
       "    <tr>\n",
       "      <th>4</th>\n",
       "      <td>12128</td>\n",
       "      <td>01/May/1998</td>\n",
       "      <td>13:30:21</td>\n",
       "      <td>/english/images/nav_sitemap_off.gif</td>\n",
       "      <td>304.0</td>\n",
       "      <td>NaN</td>\n",
       "    </tr>\n",
       "    <tr>\n",
       "      <th>15</th>\n",
       "      <td>20505</td>\n",
       "      <td>01/May/1998</td>\n",
       "      <td>21:36:22</td>\n",
       "      <td>/english/images/nav_store_off.gif</td>\n",
       "      <td>304.0</td>\n",
       "      <td>0.0</td>\n",
       "    </tr>\n",
       "    <tr>\n",
       "      <th>19</th>\n",
       "      <td>4518</td>\n",
       "      <td>01/May/1998</td>\n",
       "      <td>03:12:52</td>\n",
       "      <td>/english/images/nav_field_off.gif</td>\n",
       "      <td>304.0</td>\n",
       "      <td>0.0</td>\n",
       "    </tr>\n",
       "    <tr>\n",
       "      <th>23</th>\n",
       "      <td>6904</td>\n",
       "      <td>01/May/1998</td>\n",
       "      <td>13:09:01</td>\n",
       "      <td>/english/history/body.html</td>\n",
       "      <td>304.0</td>\n",
       "      <td>NaN</td>\n",
       "    </tr>\n",
       "  </tbody>\n",
       "</table>\n",
       "</div>"
      ],
      "text/plain": [
       "    ClientID         Date      Time                                  URL  \\\n",
       "3      11435  01/May/1998  13:15:13                 /french/frntpage.htm   \n",
       "4      12128  01/May/1998  13:30:21  /english/images/nav_sitemap_off.gif   \n",
       "15     20505  01/May/1998  21:36:22    /english/images/nav_store_off.gif   \n",
       "19      4518  01/May/1998  03:12:52    /english/images/nav_field_off.gif   \n",
       "23      6904  01/May/1998  13:09:01           /english/history/body.html   \n",
       "\n",
       "    ResponseCode  Size  \n",
       "3          304.0   0.0  \n",
       "4          304.0   NaN  \n",
       "15         304.0   0.0  \n",
       "19         304.0   0.0  \n",
       "23         304.0   NaN  "
      ]
     },
     "execution_count": 16,
     "metadata": {},
     "output_type": "execute_result"
    }
   ],
   "source": [
    "grouped.get_group(304).head()"
   ]
  },
  {
   "cell_type": "markdown",
   "metadata": {},
   "source": [
    "You can also group by multiple columns by just passing the a list of column names. For example to group by both date and response code you can run:"
   ]
  },
  {
   "cell_type": "code",
   "execution_count": 17,
   "metadata": {},
   "outputs": [],
   "source": [
    "multi_grouped = log_df.groupby(['ResponseCode', 'Date'])"
   ]
  },
  {
   "cell_type": "markdown",
   "metadata": {},
   "source": [
    "Pandas also has useful commands to print various statistics about elements in each group (see <a href=\"https://pandas.pydata.org/pandas-docs/stable/reference/groupby.html\">here</a>)\n",
    "\n",
    "1. `grouped.describe()` prints summary statistics for numeric columns in each group\n",
    "2. `grouped.size()` prints the number of elements in each group\n",
    "3. Similarly `grouped.sum()`, `grouped.mean()` and `grouped.median()` print the sum, mean and median values for numeric columns in each group\n"
   ]
  },
  {
   "cell_type": "markdown",
   "metadata": {},
   "source": [
    "> Question 3) Find all URLs with Response Code 200?"
   ]
  },
  {
   "cell_type": "code",
   "execution_count": 18,
   "metadata": {},
   "outputs": [
    {
     "data": {
      "text/html": [
       "<div>\n",
       "<style scoped>\n",
       "    .dataframe tbody tr th:only-of-type {\n",
       "        vertical-align: middle;\n",
       "    }\n",
       "\n",
       "    .dataframe tbody tr th {\n",
       "        vertical-align: top;\n",
       "    }\n",
       "\n",
       "    .dataframe thead th {\n",
       "        text-align: right;\n",
       "    }\n",
       "</style>\n",
       "<table border=\"1\" class=\"dataframe\">\n",
       "  <thead>\n",
       "    <tr style=\"text-align: right;\">\n",
       "      <th></th>\n",
       "      <th>ClientID</th>\n",
       "      <th>Date</th>\n",
       "      <th>Time</th>\n",
       "      <th>URL</th>\n",
       "      <th>ResponseCode</th>\n",
       "      <th>Size</th>\n",
       "    </tr>\n",
       "  </thead>\n",
       "  <tbody>\n",
       "    <tr>\n",
       "      <th>0</th>\n",
       "      <td>1044</td>\n",
       "      <td>30/Apr/1998</td>\n",
       "      <td>22:46:12</td>\n",
       "      <td>/images/11104.gif</td>\n",
       "      <td>200.0</td>\n",
       "      <td>508.0</td>\n",
       "    </tr>\n",
       "    <tr>\n",
       "      <th>1</th>\n",
       "      <td>10871</td>\n",
       "      <td>01/May/1998</td>\n",
       "      <td>12:10:53</td>\n",
       "      <td>/images/ligne.gif</td>\n",
       "      <td>200.0</td>\n",
       "      <td>169.0</td>\n",
       "    </tr>\n",
       "    <tr>\n",
       "      <th>2</th>\n",
       "      <td>11012</td>\n",
       "      <td>01/May/1998</td>\n",
       "      <td>12:17:30</td>\n",
       "      <td>/english/individuals/player111503.htm</td>\n",
       "      <td>200.0</td>\n",
       "      <td>7027.0</td>\n",
       "    </tr>\n",
       "    <tr>\n",
       "      <th>5</th>\n",
       "      <td>13649</td>\n",
       "      <td>01/May/1998</td>\n",
       "      <td>14:55:01</td>\n",
       "      <td>/images/hm_anime_e.gif</td>\n",
       "      <td>200.0</td>\n",
       "      <td>15609.0</td>\n",
       "    </tr>\n",
       "    <tr>\n",
       "      <th>6</th>\n",
       "      <td>15006</td>\n",
       "      <td>01/May/1998</td>\n",
       "      <td>16:14:32</td>\n",
       "      <td>/english/images/comp_bu_group_off.gif</td>\n",
       "      <td>200.0</td>\n",
       "      <td>1557.0</td>\n",
       "    </tr>\n",
       "  </tbody>\n",
       "</table>\n",
       "</div>"
      ],
      "text/plain": [
       "   ClientID         Date      Time                                    URL  \\\n",
       "0      1044  30/Apr/1998  22:46:12                      /images/11104.gif   \n",
       "1     10871  01/May/1998  12:10:53                      /images/ligne.gif   \n",
       "2     11012  01/May/1998  12:17:30  /english/individuals/player111503.htm   \n",
       "5     13649  01/May/1998  14:55:01                 /images/hm_anime_e.gif   \n",
       "6     15006  01/May/1998  16:14:32  /english/images/comp_bu_group_off.gif   \n",
       "\n",
       "   ResponseCode     Size  \n",
       "0         200.0    508.0  \n",
       "1         200.0    169.0  \n",
       "2         200.0   7027.0  \n",
       "5         200.0  15609.0  \n",
       "6         200.0   1557.0  "
      ]
     },
     "execution_count": 18,
     "metadata": {},
     "output_type": "execute_result"
    }
   ],
   "source": [
    "# Add your answer to Question 3 here\n",
    "grouped.get_group(200.0).head()"
   ]
  },
  {
   "cell_type": "markdown",
   "metadata": {},
   "source": [
    "> Question 4) Find all URLs with ClientID between 1880 and 2851?"
   ]
  },
  {
   "cell_type": "code",
   "execution_count": 19,
   "metadata": {},
   "outputs": [
    {
     "data": {
      "text/html": [
       "<div>\n",
       "<style scoped>\n",
       "    .dataframe tbody tr th:only-of-type {\n",
       "        vertical-align: middle;\n",
       "    }\n",
       "\n",
       "    .dataframe tbody tr th {\n",
       "        vertical-align: top;\n",
       "    }\n",
       "\n",
       "    .dataframe thead th {\n",
       "        text-align: right;\n",
       "    }\n",
       "</style>\n",
       "<table border=\"1\" class=\"dataframe\">\n",
       "  <thead>\n",
       "    <tr style=\"text-align: right;\">\n",
       "      <th></th>\n",
       "      <th>ClientID</th>\n",
       "      <th>Date</th>\n",
       "      <th>Time</th>\n",
       "      <th>URL</th>\n",
       "      <th>ResponseCode</th>\n",
       "      <th>Size</th>\n",
       "    </tr>\n",
       "  </thead>\n",
       "  <tbody>\n",
       "    <tr>\n",
       "      <th>57</th>\n",
       "      <td>2715</td>\n",
       "      <td>01/May/1998</td>\n",
       "      <td>13:26:35</td>\n",
       "      <td>/images/s102383.gif</td>\n",
       "      <td>304.0</td>\n",
       "      <td>NaN</td>\n",
       "    </tr>\n",
       "    <tr>\n",
       "      <th>104</th>\n",
       "      <td>2064</td>\n",
       "      <td>30/Apr/1998</td>\n",
       "      <td>23:48:36</td>\n",
       "      <td>/images/home_tool.gif</td>\n",
       "      <td>200.0</td>\n",
       "      <td>327.0</td>\n",
       "    </tr>\n",
       "    <tr>\n",
       "      <th>105</th>\n",
       "      <td>2195</td>\n",
       "      <td>01/May/1998</td>\n",
       "      <td>12:45:58</td>\n",
       "      <td>/images/comp_hm_archive.gif</td>\n",
       "      <td>200.0</td>\n",
       "      <td>1644.0</td>\n",
       "    </tr>\n",
       "    <tr>\n",
       "      <th>106</th>\n",
       "      <td>2646</td>\n",
       "      <td>01/May/1998</td>\n",
       "      <td>00:32:47</td>\n",
       "      <td>/images/s102325.gif</td>\n",
       "      <td>200.0</td>\n",
       "      <td>187.0</td>\n",
       "    </tr>\n",
       "    <tr>\n",
       "      <th>164</th>\n",
       "      <td>1945</td>\n",
       "      <td>30/Apr/1998</td>\n",
       "      <td>23:41:33</td>\n",
       "      <td>/french/images/news_btn_kits_off.gif</td>\n",
       "      <td>200.0</td>\n",
       "      <td>965.0</td>\n",
       "    </tr>\n",
       "    <tr>\n",
       "      <th>...</th>\n",
       "      <td>...</td>\n",
       "      <td>...</td>\n",
       "      <td>...</td>\n",
       "      <td>...</td>\n",
       "      <td>...</td>\n",
       "      <td>...</td>\n",
       "    </tr>\n",
       "    <tr>\n",
       "      <th>199900</th>\n",
       "      <td>1905</td>\n",
       "      <td>30/Apr/1998</td>\n",
       "      <td>23:40:17</td>\n",
       "      <td>/images/bg_team_hm.jpg</td>\n",
       "      <td>200.0</td>\n",
       "      <td>20342.0</td>\n",
       "    </tr>\n",
       "    <tr>\n",
       "      <th>199908</th>\n",
       "      <td>2271</td>\n",
       "      <td>01/May/1998</td>\n",
       "      <td>00:02:47</td>\n",
       "      <td>/english/images/fpnewstop.gif</td>\n",
       "      <td>200.0</td>\n",
       "      <td>568.0</td>\n",
       "    </tr>\n",
       "    <tr>\n",
       "      <th>199950</th>\n",
       "      <td>2255</td>\n",
       "      <td>01/May/1998</td>\n",
       "      <td>12:20:58</td>\n",
       "      <td>/images/home_bg_stars.gif</td>\n",
       "      <td>304.0</td>\n",
       "      <td>NaN</td>\n",
       "    </tr>\n",
       "    <tr>\n",
       "      <th>199951</th>\n",
       "      <td>2565</td>\n",
       "      <td>01/May/1998</td>\n",
       "      <td>20:57:01</td>\n",
       "      <td>/images/nav_bg_top.gif</td>\n",
       "      <td>200.0</td>\n",
       "      <td>929.0</td>\n",
       "    </tr>\n",
       "    <tr>\n",
       "      <th>199952</th>\n",
       "      <td>2635</td>\n",
       "      <td>01/May/1998</td>\n",
       "      <td>00:31:41</td>\n",
       "      <td>/english/images/team_group_header_f.gif</td>\n",
       "      <td>200.0</td>\n",
       "      <td>631.0</td>\n",
       "    </tr>\n",
       "  </tbody>\n",
       "</table>\n",
       "<p>9597 rows × 6 columns</p>\n",
       "</div>"
      ],
      "text/plain": [
       "        ClientID         Date      Time  \\\n",
       "57          2715  01/May/1998  13:26:35   \n",
       "104         2064  30/Apr/1998  23:48:36   \n",
       "105         2195  01/May/1998  12:45:58   \n",
       "106         2646  01/May/1998  00:32:47   \n",
       "164         1945  30/Apr/1998  23:41:33   \n",
       "...          ...          ...       ...   \n",
       "199900      1905  30/Apr/1998  23:40:17   \n",
       "199908      2271  01/May/1998  00:02:47   \n",
       "199950      2255  01/May/1998  12:20:58   \n",
       "199951      2565  01/May/1998  20:57:01   \n",
       "199952      2635  01/May/1998  00:31:41   \n",
       "\n",
       "                                            URL  ResponseCode     Size  \n",
       "57                          /images/s102383.gif         304.0      NaN  \n",
       "104                       /images/home_tool.gif         200.0    327.0  \n",
       "105                 /images/comp_hm_archive.gif         200.0   1644.0  \n",
       "106                         /images/s102325.gif         200.0    187.0  \n",
       "164        /french/images/news_btn_kits_off.gif         200.0    965.0  \n",
       "...                                         ...           ...      ...  \n",
       "199900                   /images/bg_team_hm.jpg         200.0  20342.0  \n",
       "199908            /english/images/fpnewstop.gif         200.0    568.0  \n",
       "199950                /images/home_bg_stars.gif         304.0      NaN  \n",
       "199951                   /images/nav_bg_top.gif         200.0    929.0  \n",
       "199952  /english/images/team_group_header_f.gif         200.0    631.0  \n",
       "\n",
       "[9597 rows x 6 columns]"
      ]
     },
     "execution_count": 19,
     "metadata": {},
     "output_type": "execute_result"
    }
   ],
   "source": [
    "#using the panda between method to find the client id between 1880 and 2851 \n",
    "new_clientID = log_df[log_df['ClientID'].between(1880,2851)]\n",
    "new_clientID"
   ]
  },
  {
   "cell_type": "markdown",
   "metadata": {},
   "source": [
    "## Plotting data in a DataFrame"
   ]
  },
  {
   "cell_type": "markdown",
   "metadata": {},
   "source": [
    "To plot a Series or a DataFrame you can just call `plot()` on the object and for a histogram just call `hist()`"
   ]
  },
  {
   "cell_type": "code",
   "execution_count": 20,
   "metadata": {},
   "outputs": [
    {
     "data": {
      "text/plain": [
       "<AxesSubplot:>"
      ]
     },
     "execution_count": 20,
     "metadata": {},
     "output_type": "execute_result"
    },
    {
     "data": {
      "image/png": "[encoded data removed]",
      "text/plain": [
       "<Figure size 432x288 with 1 Axes>"
      ]
     },
     "metadata": {
      "needs_background": "light"
     },
     "output_type": "display_data"
    }
   ],
   "source": [
    "rand_df = pd.DataFrame({'a' : randn(100)})\n",
    "rand_df.plot()"
   ]
  },
  {
   "cell_type": "code",
   "execution_count": 21,
   "metadata": {},
   "outputs": [
    {
     "data": {
      "text/plain": [
       "array([[<AxesSubplot:title={'center':'a'}>]], dtype=object)"
      ]
     },
     "execution_count": 21,
     "metadata": {},
     "output_type": "execute_result"
    },
    {
     "data": {
      "image/png": "[encoded data removed]",
      "text/plain": [
       "<Figure size 432x288 with 1 Axes>"
      ]
     },
     "metadata": {
      "needs_background": "light"
     },
     "output_type": "display_data"
    }
   ],
   "source": [
    "rand_df.hist()"
   ]
  },
  {
   "cell_type": "markdown",
   "metadata": {},
   "source": [
    "> Question 5) Create a DataFrame for the unique dates in the dataset and the number of requests made on each date. Your DataFrame should consist of two columns (Date and NumofRequests). Below is a sample showing how your DataFrame should look like (the numbers don't reflect actual values from the dataset). "
   ]
  },
  {
   "cell_type": "markdown",
   "metadata": {},
   "source": [
    "| Date        | NumOfRequests | \n",
    "| :---        |    :----:     |          \n",
    "| 01/May/1998 | 500           | \n",
    "| .           |               |\n",
    "| .           |               |"
   ]
  },
  {
   "cell_type": "code",
   "execution_count": 22,
   "metadata": {},
   "outputs": [
    {
     "data": {
      "text/html": [
       "<div>\n",
       "<style scoped>\n",
       "    .dataframe tbody tr th:only-of-type {\n",
       "        vertical-align: middle;\n",
       "    }\n",
       "\n",
       "    .dataframe tbody tr th {\n",
       "        vertical-align: top;\n",
       "    }\n",
       "\n",
       "    .dataframe thead th {\n",
       "        text-align: right;\n",
       "    }\n",
       "</style>\n",
       "<table border=\"1\" class=\"dataframe\">\n",
       "  <thead>\n",
       "    <tr style=\"text-align: right;\">\n",
       "      <th></th>\n",
       "      <th>Date</th>\n",
       "      <th>NumofRequests</th>\n",
       "    </tr>\n",
       "  </thead>\n",
       "  <tbody>\n",
       "    <tr>\n",
       "      <th>0</th>\n",
       "      <td>1975-03-02</td>\n",
       "      <td>220</td>\n",
       "    </tr>\n",
       "    <tr>\n",
       "      <th>1</th>\n",
       "      <td>2000-03-01</td>\n",
       "      <td>333</td>\n",
       "    </tr>\n",
       "    <tr>\n",
       "      <th>2</th>\n",
       "      <td>2010-03-03</td>\n",
       "      <td>420</td>\n",
       "    </tr>\n",
       "    <tr>\n",
       "      <th>3</th>\n",
       "      <td>1985-02-01</td>\n",
       "      <td>123</td>\n",
       "    </tr>\n",
       "    <tr>\n",
       "      <th>4</th>\n",
       "      <td>1988-01-19</td>\n",
       "      <td>324</td>\n",
       "    </tr>\n",
       "  </tbody>\n",
       "</table>\n",
       "</div>"
      ],
      "text/plain": [
       "        Date  NumofRequests\n",
       "0 1975-03-02            220\n",
       "1 2000-03-01            333\n",
       "2 2010-03-03            420\n",
       "3 1985-02-01            123\n",
       "4 1988-01-19            324"
      ]
     },
     "execution_count": 22,
     "metadata": {},
     "output_type": "execute_result"
    }
   ],
   "source": [
    "# Add your answer to Question 5 here\n",
    "bar_chart = pd.DataFrame({'Date': ['3/2/1975', '3/1/2000', '3/3/2010','2/1/1985','1/19/1988'],\n",
    "                   'NumofRequests': [220, 333, 420,123,324]})\n",
    "bar_chart['Date'] = pd.to_datetime(bar_chart['Date'])\n",
    "bar_chart\n"
   ]
  },
  {
   "cell_type": "markdown",
   "metadata": {},
   "source": [
    "> Question 6) Create a Bar Char for the DataFrame your created in Question 5. Make sure your chart has a tite and axis labels. "
   ]
  },
  {
   "cell_type": "code",
   "execution_count": 23,
   "metadata": {},
   "outputs": [
    {
     "data": {
      "text/plain": [
       "Text(0, 0.5, 'Years')"
      ]
     },
     "execution_count": 23,
     "metadata": {},
     "output_type": "execute_result"
    },
    {
     "data": {
      "image/png": "[encoded data removed]",
      "text/plain": [
       "<Figure size 432x288 with 1 Axes>"
      ]
     },
     "metadata": {
      "needs_background": "light"
     },
     "output_type": "display_data"
    }
   ],
   "source": [
    "# Add your answer to Question 6 here\n",
    "bar_chart.plot(kind=\"bar\")\n",
    "plt.title(\"Bar Chart\")\n",
    "plt.xlabel(\"No of Response\")\n",
    "plt.ylabel(\"Years\")\n"
   ]
  },
  {
   "cell_type": "markdown",
   "metadata": {},
   "source": [
    "# Joins in Pandas"
   ]
  },
  {
   "cell_type": "markdown",
   "metadata": {},
   "source": [
    "## Joins\n",
    "\n",
    "A **join** is a way to connect rows in two different data tables based on some criteria.\n",
    "Suppose the university has a database for student records with two tables in it: *Students* and *Grades*.\n"
   ]
  },
  {
   "cell_type": "code",
   "execution_count": 24,
   "metadata": {},
   "outputs": [
    {
     "data": {
      "text/html": [
       "<div>\n",
       "<style scoped>\n",
       "    .dataframe tbody tr th:only-of-type {\n",
       "        vertical-align: middle;\n",
       "    }\n",
       "\n",
       "    .dataframe tbody tr th {\n",
       "        vertical-align: top;\n",
       "    }\n",
       "\n",
       "    .dataframe thead th {\n",
       "        text-align: right;\n",
       "    }\n",
       "</style>\n",
       "<table border=\"1\" class=\"dataframe\">\n",
       "  <thead>\n",
       "    <tr style=\"text-align: right;\">\n",
       "      <th></th>\n",
       "      <th>student_id</th>\n",
       "      <th>name</th>\n",
       "    </tr>\n",
       "  </thead>\n",
       "  <tbody>\n",
       "    <tr>\n",
       "      <th>0</th>\n",
       "      <td>1</td>\n",
       "      <td>Alice</td>\n",
       "    </tr>\n",
       "    <tr>\n",
       "      <th>1</th>\n",
       "      <td>2</td>\n",
       "      <td>Bob</td>\n",
       "    </tr>\n",
       "  </tbody>\n",
       "</table>\n",
       "</div>"
      ],
      "text/plain": [
       "   student_id   name\n",
       "0           1  Alice\n",
       "1           2    Bob"
      ]
     },
     "execution_count": 24,
     "metadata": {},
     "output_type": "execute_result"
    }
   ],
   "source": [
    "import pandas as pd\n",
    "\n",
    "Students = pd.DataFrame({'student_id': [1, 2], 'name': ['Alice', 'Bob']})\n",
    "Students"
   ]
  },
  {
   "cell_type": "code",
   "execution_count": 25,
   "metadata": {},
   "outputs": [
    {
     "data": {
      "text/html": [
       "<div>\n",
       "<style scoped>\n",
       "    .dataframe tbody tr th:only-of-type {\n",
       "        vertical-align: middle;\n",
       "    }\n",
       "\n",
       "    .dataframe tbody tr th {\n",
       "        vertical-align: top;\n",
       "    }\n",
       "\n",
       "    .dataframe thead th {\n",
       "        text-align: right;\n",
       "    }\n",
       "</style>\n",
       "<table border=\"1\" class=\"dataframe\">\n",
       "  <thead>\n",
       "    <tr style=\"text-align: right;\">\n",
       "      <th></th>\n",
       "      <th>student_id</th>\n",
       "      <th>class_id</th>\n",
       "      <th>grade</th>\n",
       "    </tr>\n",
       "  </thead>\n",
       "  <tbody>\n",
       "    <tr>\n",
       "      <th>0</th>\n",
       "      <td>1</td>\n",
       "      <td>1</td>\n",
       "      <td>A</td>\n",
       "    </tr>\n",
       "    <tr>\n",
       "      <th>1</th>\n",
       "      <td>1</td>\n",
       "      <td>2</td>\n",
       "      <td>C</td>\n",
       "    </tr>\n",
       "    <tr>\n",
       "      <th>2</th>\n",
       "      <td>2</td>\n",
       "      <td>1</td>\n",
       "      <td>B</td>\n",
       "    </tr>\n",
       "    <tr>\n",
       "      <th>3</th>\n",
       "      <td>2</td>\n",
       "      <td>3</td>\n",
       "      <td>B</td>\n",
       "    </tr>\n",
       "  </tbody>\n",
       "</table>\n",
       "</div>"
      ],
      "text/plain": [
       "   student_id  class_id grade\n",
       "0           1         1     A\n",
       "1           1         2     C\n",
       "2           2         1     B\n",
       "3           2         3     B"
      ]
     },
     "execution_count": 25,
     "metadata": {},
     "output_type": "execute_result"
    }
   ],
   "source": [
    "Grades = pd.DataFrame({'student_id': [1, 1, 2, 2], 'class_id': [1, 2, 1, 3], 'grade': ['A', 'C', 'B', 'B']})\n",
    "Grades"
   ]
  },
  {
   "cell_type": "markdown",
   "metadata": {},
   "source": [
    "Let's say we want to know all of Bob's grades.\n",
    "Then, we can look up Bob's student ID in the Students table, and with the ID, look up his grades in the Grades table.\n",
    "Joins naturally express this process: when two tables share a common type of column (**student ID** in this case), we can join the tables together to get a complete view.\n",
    "\n",
    "In Pandas, we can use the `merge` method to perform a join.\n",
    "Pass the two tables to join as the first arguments, then the \"on\" parameter is set to the join column name."
   ]
  },
  {
   "cell_type": "code",
   "execution_count": 26,
   "metadata": {},
   "outputs": [
    {
     "data": {
      "text/html": [
       "<div>\n",
       "<style scoped>\n",
       "    .dataframe tbody tr th:only-of-type {\n",
       "        vertical-align: middle;\n",
       "    }\n",
       "\n",
       "    .dataframe tbody tr th {\n",
       "        vertical-align: top;\n",
       "    }\n",
       "\n",
       "    .dataframe thead th {\n",
       "        text-align: right;\n",
       "    }\n",
       "</style>\n",
       "<table border=\"1\" class=\"dataframe\">\n",
       "  <thead>\n",
       "    <tr style=\"text-align: right;\">\n",
       "      <th></th>\n",
       "      <th>student_id</th>\n",
       "      <th>name</th>\n",
       "      <th>class_id</th>\n",
       "      <th>grade</th>\n",
       "    </tr>\n",
       "  </thead>\n",
       "  <tbody>\n",
       "    <tr>\n",
       "      <th>0</th>\n",
       "      <td>1</td>\n",
       "      <td>Alice</td>\n",
       "      <td>1</td>\n",
       "      <td>A</td>\n",
       "    </tr>\n",
       "    <tr>\n",
       "      <th>1</th>\n",
       "      <td>1</td>\n",
       "      <td>Alice</td>\n",
       "      <td>2</td>\n",
       "      <td>C</td>\n",
       "    </tr>\n",
       "    <tr>\n",
       "      <th>2</th>\n",
       "      <td>2</td>\n",
       "      <td>Bob</td>\n",
       "      <td>1</td>\n",
       "      <td>B</td>\n",
       "    </tr>\n",
       "    <tr>\n",
       "      <th>3</th>\n",
       "      <td>2</td>\n",
       "      <td>Bob</td>\n",
       "      <td>3</td>\n",
       "      <td>B</td>\n",
       "    </tr>\n",
       "  </tbody>\n",
       "</table>\n",
       "</div>"
      ],
      "text/plain": [
       "   student_id   name  class_id grade\n",
       "0           1  Alice         1     A\n",
       "1           1  Alice         2     C\n",
       "2           2    Bob         1     B\n",
       "3           2    Bob         3     B"
      ]
     },
     "execution_count": 26,
     "metadata": {},
     "output_type": "execute_result"
    }
   ],
   "source": [
    "Student_Grades = pd.merge(Students, Grades, on='student_id')\n",
    "Student_Grades"
   ]
  },
  {
   "cell_type": "markdown",
   "metadata": {},
   "source": [
    "> Question 7) Use **merge** to join Student_Grades with the Classes table below, and find out what class Alice got an A in?"
   ]
  },
  {
   "cell_type": "code",
   "execution_count": 27,
   "metadata": {},
   "outputs": [
    {
     "data": {
      "text/html": [
       "<div>\n",
       "<style scoped>\n",
       "    .dataframe tbody tr th:only-of-type {\n",
       "        vertical-align: middle;\n",
       "    }\n",
       "\n",
       "    .dataframe tbody tr th {\n",
       "        vertical-align: top;\n",
       "    }\n",
       "\n",
       "    .dataframe thead th {\n",
       "        text-align: right;\n",
       "    }\n",
       "</style>\n",
       "<table border=\"1\" class=\"dataframe\">\n",
       "  <thead>\n",
       "    <tr style=\"text-align: right;\">\n",
       "      <th></th>\n",
       "      <th>class_id</th>\n",
       "      <th>title</th>\n",
       "    </tr>\n",
       "  </thead>\n",
       "  <tbody>\n",
       "    <tr>\n",
       "      <th>0</th>\n",
       "      <td>1</td>\n",
       "      <td>Math</td>\n",
       "    </tr>\n",
       "    <tr>\n",
       "      <th>1</th>\n",
       "      <td>2</td>\n",
       "      <td>English</td>\n",
       "    </tr>\n",
       "    <tr>\n",
       "      <th>2</th>\n",
       "      <td>3</td>\n",
       "      <td>Spanish</td>\n",
       "    </tr>\n",
       "  </tbody>\n",
       "</table>\n",
       "</div>"
      ],
      "text/plain": [
       "   class_id    title\n",
       "0         1     Math\n",
       "1         2  English\n",
       "2         3  Spanish"
      ]
     },
     "execution_count": 27,
     "metadata": {},
     "output_type": "execute_result"
    }
   ],
   "source": [
    "Classes = pd.DataFrame({'class_id': [1, 2, 3], 'title': ['Math', 'English', 'Spanish']})\n",
    "Classes"
   ]
  },
  {
   "cell_type": "code",
   "execution_count": 28,
   "metadata": {},
   "outputs": [
    {
     "data": {
      "text/html": [
       "<div>\n",
       "<style scoped>\n",
       "    .dataframe tbody tr th:only-of-type {\n",
       "        vertical-align: middle;\n",
       "    }\n",
       "\n",
       "    .dataframe tbody tr th {\n",
       "        vertical-align: top;\n",
       "    }\n",
       "\n",
       "    .dataframe thead th {\n",
       "        text-align: right;\n",
       "    }\n",
       "</style>\n",
       "<table border=\"1\" class=\"dataframe\">\n",
       "  <thead>\n",
       "    <tr style=\"text-align: right;\">\n",
       "      <th></th>\n",
       "      <th>student_id</th>\n",
       "      <th>name</th>\n",
       "      <th>class_id</th>\n",
       "      <th>grade</th>\n",
       "      <th>title</th>\n",
       "    </tr>\n",
       "  </thead>\n",
       "  <tbody>\n",
       "    <tr>\n",
       "      <th>0</th>\n",
       "      <td>1</td>\n",
       "      <td>Alice</td>\n",
       "      <td>1</td>\n",
       "      <td>A</td>\n",
       "      <td>Math</td>\n",
       "    </tr>\n",
       "    <tr>\n",
       "      <th>1</th>\n",
       "      <td>2</td>\n",
       "      <td>Bob</td>\n",
       "      <td>1</td>\n",
       "      <td>B</td>\n",
       "      <td>Math</td>\n",
       "    </tr>\n",
       "    <tr>\n",
       "      <th>2</th>\n",
       "      <td>1</td>\n",
       "      <td>Alice</td>\n",
       "      <td>2</td>\n",
       "      <td>C</td>\n",
       "      <td>English</td>\n",
       "    </tr>\n",
       "    <tr>\n",
       "      <th>3</th>\n",
       "      <td>2</td>\n",
       "      <td>Bob</td>\n",
       "      <td>3</td>\n",
       "      <td>B</td>\n",
       "      <td>Spanish</td>\n",
       "    </tr>\n",
       "  </tbody>\n",
       "</table>\n",
       "</div>"
      ],
      "text/plain": [
       "   student_id   name  class_id grade    title\n",
       "0           1  Alice         1     A     Math\n",
       "1           2    Bob         1     B     Math\n",
       "2           1  Alice         2     C  English\n",
       "3           2    Bob         3     B  Spanish"
      ]
     },
     "execution_count": 28,
     "metadata": {},
     "output_type": "execute_result"
    }
   ],
   "source": [
    "# Add you answer to Question 7 here\n",
    "Classes_student =  pd.merge(Student_Grades, Classes, on='class_id')\n",
    "Classes_student\n"
   ]
  },
  {
   "cell_type": "markdown",
   "metadata": {},
   "source": [
    "# Joining the Restaurant Data\n",
    "\n",
    "Now let's load the restaurant data that we will be analyzing:"
   ]
  },
  {
   "cell_type": "code",
   "execution_count": 29,
   "metadata": {},
   "outputs": [
    {
     "name": "stdout",
     "output_type": "stream",
     "text": [
      "<class 'pandas.core.frame.DataFrame'>\n",
      "RangeIndex: 858 entries, 0 to 857\n",
      "Data columns (total 4 columns):\n",
      " #   Column   Non-Null Count  Dtype \n",
      "---  ------   --------------  ----- \n",
      " 0   id       858 non-null    int64 \n",
      " 1   cluster  858 non-null    int64 \n",
      " 2   name     858 non-null    object\n",
      " 3   city     858 non-null    object\n",
      "dtypes: int64(2), object(2)\n",
      "memory usage: 26.9+ KB\n"
     ]
    }
   ],
   "source": [
    "resto = pd.read_csv('restaurants.csv')\n",
    "resto.info()"
   ]
  },
  {
   "cell_type": "code",
   "execution_count": 30,
   "metadata": {},
   "outputs": [
    {
     "data": {
      "text/html": [
       "<div>\n",
       "<style scoped>\n",
       "    .dataframe tbody tr th:only-of-type {\n",
       "        vertical-align: middle;\n",
       "    }\n",
       "\n",
       "    .dataframe tbody tr th {\n",
       "        vertical-align: top;\n",
       "    }\n",
       "\n",
       "    .dataframe thead th {\n",
       "        text-align: right;\n",
       "    }\n",
       "</style>\n",
       "<table border=\"1\" class=\"dataframe\">\n",
       "  <thead>\n",
       "    <tr style=\"text-align: right;\">\n",
       "      <th></th>\n",
       "      <th>id</th>\n",
       "      <th>cluster</th>\n",
       "      <th>name</th>\n",
       "      <th>city</th>\n",
       "    </tr>\n",
       "  </thead>\n",
       "  <tbody>\n",
       "    <tr>\n",
       "      <th>0</th>\n",
       "      <td>560</td>\n",
       "      <td>453</td>\n",
       "      <td>2223</td>\n",
       "      <td>san francisco</td>\n",
       "    </tr>\n",
       "    <tr>\n",
       "      <th>1</th>\n",
       "      <td>781</td>\n",
       "      <td>675</td>\n",
       "      <td>103 west</td>\n",
       "      <td>atlanta</td>\n",
       "    </tr>\n",
       "    <tr>\n",
       "      <th>2</th>\n",
       "      <td>279</td>\n",
       "      <td>172</td>\n",
       "      <td>20 mott</td>\n",
       "      <td>new york</td>\n",
       "    </tr>\n",
       "    <tr>\n",
       "      <th>3</th>\n",
       "      <td>43</td>\n",
       "      <td>23</td>\n",
       "      <td>21 club</td>\n",
       "      <td>new york</td>\n",
       "    </tr>\n",
       "    <tr>\n",
       "      <th>4</th>\n",
       "      <td>44</td>\n",
       "      <td>23</td>\n",
       "      <td>21 club</td>\n",
       "      <td>new york city</td>\n",
       "    </tr>\n",
       "    <tr>\n",
       "      <th>5</th>\n",
       "      <td>280</td>\n",
       "      <td>173</td>\n",
       "      <td>9 jones street</td>\n",
       "      <td>new york</td>\n",
       "    </tr>\n",
       "    <tr>\n",
       "      <th>6</th>\n",
       "      <td>486</td>\n",
       "      <td>379</td>\n",
       "      <td>abbey</td>\n",
       "      <td>atlanta</td>\n",
       "    </tr>\n",
       "    <tr>\n",
       "      <th>7</th>\n",
       "      <td>145</td>\n",
       "      <td>74</td>\n",
       "      <td>abruzzi</td>\n",
       "      <td>atlanta</td>\n",
       "    </tr>\n",
       "    <tr>\n",
       "      <th>8</th>\n",
       "      <td>146</td>\n",
       "      <td>74</td>\n",
       "      <td>abruzzi</td>\n",
       "      <td>atlanta</td>\n",
       "    </tr>\n",
       "    <tr>\n",
       "      <th>9</th>\n",
       "      <td>561</td>\n",
       "      <td>454</td>\n",
       "      <td>acquarello</td>\n",
       "      <td>san francisco</td>\n",
       "    </tr>\n",
       "  </tbody>\n",
       "</table>\n",
       "</div>"
      ],
      "text/plain": [
       "    id  cluster            name           city\n",
       "0  560      453            2223  san francisco\n",
       "1  781      675        103 west        atlanta\n",
       "2  279      172         20 mott       new york\n",
       "3   43       23         21 club       new york\n",
       "4   44       23         21 club  new york city\n",
       "5  280      173  9 jones street       new york\n",
       "6  486      379           abbey        atlanta\n",
       "7  145       74         abruzzi        atlanta\n",
       "8  146       74         abruzzi        atlanta\n",
       "9  561      454      acquarello  san francisco"
      ]
     },
     "execution_count": 30,
     "metadata": {},
     "output_type": "execute_result"
    }
   ],
   "source": [
    "resto[:10]"
   ]
  },
  {
   "cell_type": "markdown",
   "metadata": {},
   "source": [
    "The restaurant data has four columns.\n",
    "**id** is a unique ID field (unique for each row), **name** is the name of the restaurant, and **city** is where it is located.\n",
    "The fourth column, **cluster**, is a \"gold standard\" column.\n",
    "If two records have the same **cluster**, that means they are both about the same restaurant.\n",
    "\n",
    "The type of join we made above between Students and Grades, where we link records with equal values in a common column, is called an *equijoin*.\n",
    "Equijoins may join on more than one column, too (both values have to match).\n",
    "\n",
    "Let's use an equijoin to find pairs of duplicate restaurant records.\n",
    "We join the data to itself, on the **cluster** column.\n",
    "\n",
    "> Note: a join between a table and itself is called a *self-join*.\n",
    "\n",
    "The result (\"clusters\" below) has a lot of extra records in it.\n",
    "For example, since we're joining a table to itself, every record matches itself.\n",
    "We can filter on IDs to get rid of these extra join results.\n",
    "Note that when Pandas joins two tables that have columns with the same name, it appends \"_x\" and \"_y\" to the names to distinguish them."
   ]
  },
  {
   "cell_type": "code",
   "execution_count": 31,
   "metadata": {},
   "outputs": [
    {
     "data": {
      "text/html": [
       "<div>\n",
       "<style scoped>\n",
       "    .dataframe tbody tr th:only-of-type {\n",
       "        vertical-align: middle;\n",
       "    }\n",
       "\n",
       "    .dataframe tbody tr th {\n",
       "        vertical-align: top;\n",
       "    }\n",
       "\n",
       "    .dataframe thead th {\n",
       "        text-align: right;\n",
       "    }\n",
       "</style>\n",
       "<table border=\"1\" class=\"dataframe\">\n",
       "  <thead>\n",
       "    <tr style=\"text-align: right;\">\n",
       "      <th></th>\n",
       "      <th>id_x</th>\n",
       "      <th>cluster</th>\n",
       "      <th>name_x</th>\n",
       "      <th>city_x</th>\n",
       "      <th>id_y</th>\n",
       "      <th>name_y</th>\n",
       "      <th>city_y</th>\n",
       "    </tr>\n",
       "  </thead>\n",
       "  <tbody>\n",
       "    <tr>\n",
       "      <th>4</th>\n",
       "      <td>43</td>\n",
       "      <td>23</td>\n",
       "      <td>21 club</td>\n",
       "      <td>new york</td>\n",
       "      <td>44</td>\n",
       "      <td>21 club</td>\n",
       "      <td>new york city</td>\n",
       "    </tr>\n",
       "    <tr>\n",
       "      <th>5</th>\n",
       "      <td>44</td>\n",
       "      <td>23</td>\n",
       "      <td>21 club</td>\n",
       "      <td>new york city</td>\n",
       "      <td>43</td>\n",
       "      <td>21 club</td>\n",
       "      <td>new york</td>\n",
       "    </tr>\n",
       "    <tr>\n",
       "      <th>10</th>\n",
       "      <td>145</td>\n",
       "      <td>74</td>\n",
       "      <td>abruzzi</td>\n",
       "      <td>atlanta</td>\n",
       "      <td>146</td>\n",
       "      <td>abruzzi</td>\n",
       "      <td>atlanta</td>\n",
       "    </tr>\n",
       "    <tr>\n",
       "      <th>11</th>\n",
       "      <td>146</td>\n",
       "      <td>74</td>\n",
       "      <td>abruzzi</td>\n",
       "      <td>atlanta</td>\n",
       "      <td>145</td>\n",
       "      <td>abruzzi</td>\n",
       "      <td>atlanta</td>\n",
       "    </tr>\n",
       "    <tr>\n",
       "      <th>20</th>\n",
       "      <td>184</td>\n",
       "      <td>94</td>\n",
       "      <td>alain rondelli</td>\n",
       "      <td>san francisco</td>\n",
       "      <td>185</td>\n",
       "      <td>alain rondelli</td>\n",
       "      <td>san francisco</td>\n",
       "    </tr>\n",
       "    <tr>\n",
       "      <th>21</th>\n",
       "      <td>185</td>\n",
       "      <td>94</td>\n",
       "      <td>alain rondelli</td>\n",
       "      <td>san francisco</td>\n",
       "      <td>184</td>\n",
       "      <td>alain rondelli</td>\n",
       "      <td>san francisco</td>\n",
       "    </tr>\n",
       "    <tr>\n",
       "      <th>36</th>\n",
       "      <td>186</td>\n",
       "      <td>95</td>\n",
       "      <td>aqua</td>\n",
       "      <td>san francisco</td>\n",
       "      <td>187</td>\n",
       "      <td>aqua</td>\n",
       "      <td>san francisco</td>\n",
       "    </tr>\n",
       "    <tr>\n",
       "      <th>37</th>\n",
       "      <td>187</td>\n",
       "      <td>95</td>\n",
       "      <td>aqua</td>\n",
       "      <td>san francisco</td>\n",
       "      <td>186</td>\n",
       "      <td>aqua</td>\n",
       "      <td>san francisco</td>\n",
       "    </tr>\n",
       "    <tr>\n",
       "      <th>40</th>\n",
       "      <td>45</td>\n",
       "      <td>24</td>\n",
       "      <td>aquavit</td>\n",
       "      <td>new york</td>\n",
       "      <td>46</td>\n",
       "      <td>aquavit</td>\n",
       "      <td>new york city</td>\n",
       "    </tr>\n",
       "    <tr>\n",
       "      <th>41</th>\n",
       "      <td>46</td>\n",
       "      <td>24</td>\n",
       "      <td>aquavit</td>\n",
       "      <td>new york city</td>\n",
       "      <td>45</td>\n",
       "      <td>aquavit</td>\n",
       "      <td>new york</td>\n",
       "    </tr>\n",
       "  </tbody>\n",
       "</table>\n",
       "</div>"
      ],
      "text/plain": [
       "    id_x  cluster          name_x         city_x  id_y          name_y  \\\n",
       "4     43       23         21 club       new york    44         21 club   \n",
       "5     44       23         21 club  new york city    43         21 club   \n",
       "10   145       74         abruzzi        atlanta   146         abruzzi   \n",
       "11   146       74         abruzzi        atlanta   145         abruzzi   \n",
       "20   184       94  alain rondelli  san francisco   185  alain rondelli   \n",
       "21   185       94  alain rondelli  san francisco   184  alain rondelli   \n",
       "36   186       95            aqua  san francisco   187            aqua   \n",
       "37   187       95            aqua  san francisco   186            aqua   \n",
       "40    45       24         aquavit       new york    46         aquavit   \n",
       "41    46       24         aquavit  new york city    45         aquavit   \n",
       "\n",
       "           city_y  \n",
       "4   new york city  \n",
       "5        new york  \n",
       "10        atlanta  \n",
       "11        atlanta  \n",
       "20  san francisco  \n",
       "21  san francisco  \n",
       "36  san francisco  \n",
       "37  san francisco  \n",
       "40  new york city  \n",
       "41       new york  "
      ]
     },
     "execution_count": 31,
     "metadata": {},
     "output_type": "execute_result"
    }
   ],
   "source": [
    "clusters = pd.merge(resto, resto, on='cluster')\n",
    "clusters = clusters[clusters.id_x != clusters.id_y]\n",
    "clusters[:10]"
   ]
  },
  {
   "cell_type": "markdown",
   "metadata": {},
   "source": [
    "> Question 8) There are still extra records in *clusters*, above.  If records *A* and *B* match each other, then we will get both (*A*, *B*) and (*B*, *A*) in the output.\n",
    "Filter *clusters* so that we only keep one instance of each matching pair (HINT: use the IDs again).\n"
   ]
  },
  {
   "cell_type": "code",
   "execution_count": 32,
   "metadata": {},
   "outputs": [
    {
     "data": {
      "text/html": [
       "<div>\n",
       "<style scoped>\n",
       "    .dataframe tbody tr th:only-of-type {\n",
       "        vertical-align: middle;\n",
       "    }\n",
       "\n",
       "    .dataframe tbody tr th {\n",
       "        vertical-align: top;\n",
       "    }\n",
       "\n",
       "    .dataframe thead th {\n",
       "        text-align: right;\n",
       "    }\n",
       "</style>\n",
       "<table border=\"1\" class=\"dataframe\">\n",
       "  <thead>\n",
       "    <tr style=\"text-align: right;\">\n",
       "      <th></th>\n",
       "      <th>id_x</th>\n",
       "      <th>cluster</th>\n",
       "      <th>name_x</th>\n",
       "      <th>city_x</th>\n",
       "      <th>id_y</th>\n",
       "      <th>name_y</th>\n",
       "      <th>city_y</th>\n",
       "    </tr>\n",
       "  </thead>\n",
       "  <tbody>\n",
       "    <tr>\n",
       "      <th>4</th>\n",
       "      <td>43</td>\n",
       "      <td>23</td>\n",
       "      <td>21 club</td>\n",
       "      <td>new york</td>\n",
       "      <td>44</td>\n",
       "      <td>21 club</td>\n",
       "      <td>new york city</td>\n",
       "    </tr>\n",
       "    <tr>\n",
       "      <th>10</th>\n",
       "      <td>145</td>\n",
       "      <td>74</td>\n",
       "      <td>abruzzi</td>\n",
       "      <td>atlanta</td>\n",
       "      <td>146</td>\n",
       "      <td>abruzzi</td>\n",
       "      <td>atlanta</td>\n",
       "    </tr>\n",
       "    <tr>\n",
       "      <th>20</th>\n",
       "      <td>184</td>\n",
       "      <td>94</td>\n",
       "      <td>alain rondelli</td>\n",
       "      <td>san francisco</td>\n",
       "      <td>185</td>\n",
       "      <td>alain rondelli</td>\n",
       "      <td>san francisco</td>\n",
       "    </tr>\n",
       "    <tr>\n",
       "      <th>36</th>\n",
       "      <td>186</td>\n",
       "      <td>95</td>\n",
       "      <td>aqua</td>\n",
       "      <td>san francisco</td>\n",
       "      <td>187</td>\n",
       "      <td>aqua</td>\n",
       "      <td>san francisco</td>\n",
       "    </tr>\n",
       "    <tr>\n",
       "      <th>40</th>\n",
       "      <td>45</td>\n",
       "      <td>24</td>\n",
       "      <td>aquavit</td>\n",
       "      <td>new york</td>\n",
       "      <td>46</td>\n",
       "      <td>aquavit</td>\n",
       "      <td>new york city</td>\n",
       "    </tr>\n",
       "    <tr>\n",
       "      <th>46</th>\n",
       "      <td>1</td>\n",
       "      <td>0</td>\n",
       "      <td>arnie morton's of chicago</td>\n",
       "      <td>los angeles</td>\n",
       "      <td>2</td>\n",
       "      <td>arnie morton's of chicago</td>\n",
       "      <td>los angeles</td>\n",
       "    </tr>\n",
       "    <tr>\n",
       "      <th>51</th>\n",
       "      <td>3</td>\n",
       "      <td>1</td>\n",
       "      <td>art's delicatessen</td>\n",
       "      <td>studio city</td>\n",
       "      <td>4</td>\n",
       "      <td>art's deli</td>\n",
       "      <td>studio city</td>\n",
       "    </tr>\n",
       "    <tr>\n",
       "      <th>58</th>\n",
       "      <td>47</td>\n",
       "      <td>25</td>\n",
       "      <td>aureole</td>\n",
       "      <td>new york</td>\n",
       "      <td>48</td>\n",
       "      <td>aureole</td>\n",
       "      <td>new york city</td>\n",
       "    </tr>\n",
       "    <tr>\n",
       "      <th>62</th>\n",
       "      <td>147</td>\n",
       "      <td>75</td>\n",
       "      <td>bacchanalia</td>\n",
       "      <td>atlanta</td>\n",
       "      <td>148</td>\n",
       "      <td>bacchanalia</td>\n",
       "      <td>atlanta</td>\n",
       "    </tr>\n",
       "    <tr>\n",
       "      <th>79</th>\n",
       "      <td>5</td>\n",
       "      <td>2</td>\n",
       "      <td>hotel bel-air</td>\n",
       "      <td>bel air</td>\n",
       "      <td>6</td>\n",
       "      <td>bel-air hotel</td>\n",
       "      <td>bel air</td>\n",
       "    </tr>\n",
       "  </tbody>\n",
       "</table>\n",
       "</div>"
      ],
      "text/plain": [
       "    id_x  cluster                     name_x         city_x  id_y  \\\n",
       "4     43       23                    21 club       new york    44   \n",
       "10   145       74                    abruzzi        atlanta   146   \n",
       "20   184       94             alain rondelli  san francisco   185   \n",
       "36   186       95                       aqua  san francisco   187   \n",
       "40    45       24                    aquavit       new york    46   \n",
       "46     1        0  arnie morton's of chicago    los angeles     2   \n",
       "51     3        1         art's delicatessen    studio city     4   \n",
       "58    47       25                    aureole       new york    48   \n",
       "62   147       75                bacchanalia        atlanta   148   \n",
       "79     5        2              hotel bel-air        bel air     6   \n",
       "\n",
       "                       name_y         city_y  \n",
       "4                     21 club  new york city  \n",
       "10                    abruzzi        atlanta  \n",
       "20             alain rondelli  san francisco  \n",
       "36                       aqua  san francisco  \n",
       "40                    aquavit  new york city  \n",
       "46  arnie morton's of chicago    los angeles  \n",
       "51                 art's deli    studio city  \n",
       "58                    aureole  new york city  \n",
       "62                bacchanalia        atlanta  \n",
       "79              bel-air hotel        bel air  "
      ]
     },
     "execution_count": 32,
     "metadata": {},
     "output_type": "execute_result"
    }
   ],
   "source": [
    "# Add your answer to Question 8 here\n",
    "clusters = pd.merge(resto, resto, on='cluster')\n",
    "clusters = clusters[clusters.id_x < clusters.id_y]\n",
    "clusters[:10]"
   ]
  },
  {
   "cell_type": "markdown",
   "metadata": {},
   "source": [
    "> Question 9) How many rows are there in your filtered table?"
   ]
  },
  {
   "cell_type": "code",
   "execution_count": 33,
   "metadata": {},
   "outputs": [
    {
     "data": {
      "text/plain": [
       "106"
      ]
     },
     "execution_count": 33,
     "metadata": {},
     "output_type": "execute_result"
    }
   ],
   "source": [
    "# Add your answer to Question 9 here\n",
    "len(clusters)\n",
    "#clusters have 106 rows now after filtering it to only contain one instance of (A,B) and (B,A)"
   ]
  },
  {
   "cell_type": "markdown",
   "metadata": {},
   "source": [
    "## Fuzzy Joins\n",
    "\n",
    "Sometimes an equijoin isn't good enough.\n",
    "\n",
    "Say you want to match up records that are *almost* equal in a column.\n",
    "Or where a *function* of a columns is equal.\n",
    "Or maybe you don't care about equality: maybe \"less than\" or \"greater than or equal to\" is what you want.\n",
    "These cases call for a more general join than equijoin.\n",
    "\n",
    "We are going to make one of these joins between the restaurants data and itself.\n",
    "Specifically, we want to match up pairs of records whose restaurant names are *almost* the same.\n",
    "We call this a **fuzzy join**.\n",
    "\n",
    "To do a fuzzy join in Pandas we need to go about it in a few steps:\n",
    "\n",
    "1.  Join every record in the first table with every record in the second table. This is called the **(Cartesian) product** of the tables, and it's simply a list of all possible pairs of records.\n",
    "2.  Add a column to the product that measures how \"similar\" each pair of records is. This is our **join criterion**.\n",
    "3.  Filter the product based on when the join criterion is \"similar enough.\"\n",
    "\n",
    "> SQL Aside: In SQL, all of joins are supported in about the same way as equijoins are.\n",
    "> Essentially, you write a boolean expression on columns from the join-tables, and whenever that expression is true, you join the records together.\n",
    "> This is very similar to writing an **if** statement in Python or Java.\n",
    "\n",
    "Let's do an example to get the hang of it."
   ]
  },
  {
   "cell_type": "markdown",
   "metadata": {},
   "source": [
    "### Edit Distance\n",
    "\n",
    "We're going to be using a string-similarity Python library to compute \"edit distance\".\n",
    "\n",
    "To test that it works, the following should run OK:"
   ]
  },
  {
   "cell_type": "code",
   "execution_count": 34,
   "metadata": {},
   "outputs": [],
   "source": [
    "# Be sure to install this package in your conda environment with \n",
    "# pip install python-Levenshtein or install through the GUI\n",
    "import Levenshtein as L"
   ]
  },
  {
   "cell_type": "markdown",
   "metadata": {},
   "source": [
    "#### 1. Join every record in the first table with every record in the second table.\n",
    "\n",
    "We use a \"dummy\" column to compute the product of the data with itself.\n",
    "**dummy** takes the same value for every record, so we can do an equijoin and get back all pairs."
   ]
  },
  {
   "cell_type": "code",
   "execution_count": 35,
   "metadata": {},
   "outputs": [
    {
     "name": "stdout",
     "output_type": "stream",
     "text": [
      "736164, 736164\n"
     ]
    }
   ],
   "source": [
    "resto['dummy'] = 0\n",
    "prod = pd.merge(resto, resto, on='dummy')\n",
    "\n",
    "# Clean up\n",
    "del prod['dummy']\n",
    "del resto['dummy']\n",
    "\n",
    "# Show that prod is the size of \"resto\" squared:\n",
    "print(f\"{len(prod)}, {len(resto)**2}\")"
   ]
  },
  {
   "cell_type": "code",
   "execution_count": 36,
   "metadata": {},
   "outputs": [
    {
     "data": {
      "text/html": [
       "<div>\n",
       "<style scoped>\n",
       "    .dataframe tbody tr th:only-of-type {\n",
       "        vertical-align: middle;\n",
       "    }\n",
       "\n",
       "    .dataframe tbody tr th {\n",
       "        vertical-align: top;\n",
       "    }\n",
       "\n",
       "    .dataframe thead th {\n",
       "        text-align: right;\n",
       "    }\n",
       "</style>\n",
       "<table border=\"1\" class=\"dataframe\">\n",
       "  <thead>\n",
       "    <tr style=\"text-align: right;\">\n",
       "      <th></th>\n",
       "      <th>id_x</th>\n",
       "      <th>cluster_x</th>\n",
       "      <th>name_x</th>\n",
       "      <th>city_x</th>\n",
       "      <th>id_y</th>\n",
       "      <th>cluster_y</th>\n",
       "      <th>name_y</th>\n",
       "      <th>city_y</th>\n",
       "    </tr>\n",
       "  </thead>\n",
       "  <tbody>\n",
       "    <tr>\n",
       "      <th>0</th>\n",
       "      <td>560</td>\n",
       "      <td>453</td>\n",
       "      <td>2223</td>\n",
       "      <td>san francisco</td>\n",
       "      <td>560</td>\n",
       "      <td>453</td>\n",
       "      <td>2223</td>\n",
       "      <td>san francisco</td>\n",
       "    </tr>\n",
       "    <tr>\n",
       "      <th>1</th>\n",
       "      <td>560</td>\n",
       "      <td>453</td>\n",
       "      <td>2223</td>\n",
       "      <td>san francisco</td>\n",
       "      <td>781</td>\n",
       "      <td>675</td>\n",
       "      <td>103 west</td>\n",
       "      <td>atlanta</td>\n",
       "    </tr>\n",
       "    <tr>\n",
       "      <th>2</th>\n",
       "      <td>560</td>\n",
       "      <td>453</td>\n",
       "      <td>2223</td>\n",
       "      <td>san francisco</td>\n",
       "      <td>279</td>\n",
       "      <td>172</td>\n",
       "      <td>20 mott</td>\n",
       "      <td>new york</td>\n",
       "    </tr>\n",
       "    <tr>\n",
       "      <th>3</th>\n",
       "      <td>560</td>\n",
       "      <td>453</td>\n",
       "      <td>2223</td>\n",
       "      <td>san francisco</td>\n",
       "      <td>43</td>\n",
       "      <td>23</td>\n",
       "      <td>21 club</td>\n",
       "      <td>new york</td>\n",
       "    </tr>\n",
       "    <tr>\n",
       "      <th>4</th>\n",
       "      <td>560</td>\n",
       "      <td>453</td>\n",
       "      <td>2223</td>\n",
       "      <td>san francisco</td>\n",
       "      <td>44</td>\n",
       "      <td>23</td>\n",
       "      <td>21 club</td>\n",
       "      <td>new york city</td>\n",
       "    </tr>\n",
       "    <tr>\n",
       "      <th>5</th>\n",
       "      <td>560</td>\n",
       "      <td>453</td>\n",
       "      <td>2223</td>\n",
       "      <td>san francisco</td>\n",
       "      <td>280</td>\n",
       "      <td>173</td>\n",
       "      <td>9 jones street</td>\n",
       "      <td>new york</td>\n",
       "    </tr>\n",
       "    <tr>\n",
       "      <th>6</th>\n",
       "      <td>560</td>\n",
       "      <td>453</td>\n",
       "      <td>2223</td>\n",
       "      <td>san francisco</td>\n",
       "      <td>486</td>\n",
       "      <td>379</td>\n",
       "      <td>abbey</td>\n",
       "      <td>atlanta</td>\n",
       "    </tr>\n",
       "    <tr>\n",
       "      <th>7</th>\n",
       "      <td>560</td>\n",
       "      <td>453</td>\n",
       "      <td>2223</td>\n",
       "      <td>san francisco</td>\n",
       "      <td>145</td>\n",
       "      <td>74</td>\n",
       "      <td>abruzzi</td>\n",
       "      <td>atlanta</td>\n",
       "    </tr>\n",
       "    <tr>\n",
       "      <th>8</th>\n",
       "      <td>560</td>\n",
       "      <td>453</td>\n",
       "      <td>2223</td>\n",
       "      <td>san francisco</td>\n",
       "      <td>146</td>\n",
       "      <td>74</td>\n",
       "      <td>abruzzi</td>\n",
       "      <td>atlanta</td>\n",
       "    </tr>\n",
       "    <tr>\n",
       "      <th>9</th>\n",
       "      <td>560</td>\n",
       "      <td>453</td>\n",
       "      <td>2223</td>\n",
       "      <td>san francisco</td>\n",
       "      <td>561</td>\n",
       "      <td>454</td>\n",
       "      <td>acquarello</td>\n",
       "      <td>san francisco</td>\n",
       "    </tr>\n",
       "  </tbody>\n",
       "</table>\n",
       "</div>"
      ],
      "text/plain": [
       "   id_x  cluster_x name_x         city_x  id_y  cluster_y          name_y  \\\n",
       "0   560        453   2223  san francisco   560        453            2223   \n",
       "1   560        453   2223  san francisco   781        675        103 west   \n",
       "2   560        453   2223  san francisco   279        172         20 mott   \n",
       "3   560        453   2223  san francisco    43         23         21 club   \n",
       "4   560        453   2223  san francisco    44         23         21 club   \n",
       "5   560        453   2223  san francisco   280        173  9 jones street   \n",
       "6   560        453   2223  san francisco   486        379           abbey   \n",
       "7   560        453   2223  san francisco   145         74         abruzzi   \n",
       "8   560        453   2223  san francisco   146         74         abruzzi   \n",
       "9   560        453   2223  san francisco   561        454      acquarello   \n",
       "\n",
       "          city_y  \n",
       "0  san francisco  \n",
       "1        atlanta  \n",
       "2       new york  \n",
       "3       new york  \n",
       "4  new york city  \n",
       "5       new york  \n",
       "6        atlanta  \n",
       "7        atlanta  \n",
       "8        atlanta  \n",
       "9  san francisco  "
      ]
     },
     "execution_count": 36,
     "metadata": {},
     "output_type": "execute_result"
    }
   ],
   "source": [
    "prod[:10]\n"
   ]
  },
  {
   "cell_type": "markdown",
   "metadata": {},
   "source": [
    "> Question 10) (OPTIONAL) Like we did with *clusters* remove \"extra\" record pairs, e.g., ones with the same ID."
   ]
  },
  {
   "cell_type": "code",
   "execution_count": 37,
   "metadata": {},
   "outputs": [
    {
     "data": {
      "text/html": [
       "<div>\n",
       "<style scoped>\n",
       "    .dataframe tbody tr th:only-of-type {\n",
       "        vertical-align: middle;\n",
       "    }\n",
       "\n",
       "    .dataframe tbody tr th {\n",
       "        vertical-align: top;\n",
       "    }\n",
       "\n",
       "    .dataframe thead th {\n",
       "        text-align: right;\n",
       "    }\n",
       "</style>\n",
       "<table border=\"1\" class=\"dataframe\">\n",
       "  <thead>\n",
       "    <tr style=\"text-align: right;\">\n",
       "      <th></th>\n",
       "      <th>id_x</th>\n",
       "      <th>cluster_x</th>\n",
       "      <th>name_x</th>\n",
       "      <th>city_x</th>\n",
       "      <th>id_y</th>\n",
       "      <th>cluster_y</th>\n",
       "      <th>name_y</th>\n",
       "      <th>city_y</th>\n",
       "    </tr>\n",
       "  </thead>\n",
       "  <tbody>\n",
       "    <tr>\n",
       "      <th>1</th>\n",
       "      <td>560</td>\n",
       "      <td>453</td>\n",
       "      <td>2223</td>\n",
       "      <td>san francisco</td>\n",
       "      <td>781</td>\n",
       "      <td>675</td>\n",
       "      <td>103 west</td>\n",
       "      <td>atlanta</td>\n",
       "    </tr>\n",
       "    <tr>\n",
       "      <th>9</th>\n",
       "      <td>560</td>\n",
       "      <td>453</td>\n",
       "      <td>2223</td>\n",
       "      <td>san francisco</td>\n",
       "      <td>561</td>\n",
       "      <td>454</td>\n",
       "      <td>acquarello</td>\n",
       "      <td>san francisco</td>\n",
       "    </tr>\n",
       "    <tr>\n",
       "      <th>12</th>\n",
       "      <td>560</td>\n",
       "      <td>453</td>\n",
       "      <td>2223</td>\n",
       "      <td>san francisco</td>\n",
       "      <td>708</td>\n",
       "      <td>602</td>\n",
       "      <td>afghan kebab house</td>\n",
       "      <td>new york city</td>\n",
       "    </tr>\n",
       "    <tr>\n",
       "      <th>20</th>\n",
       "      <td>560</td>\n",
       "      <td>453</td>\n",
       "      <td>2223</td>\n",
       "      <td>san francisco</td>\n",
       "      <td>782</td>\n",
       "      <td>676</td>\n",
       "      <td>alon's at the terrace</td>\n",
       "      <td>atlanta</td>\n",
       "    </tr>\n",
       "    <tr>\n",
       "      <th>24</th>\n",
       "      <td>560</td>\n",
       "      <td>453</td>\n",
       "      <td>2223</td>\n",
       "      <td>san francisco</td>\n",
       "      <td>762</td>\n",
       "      <td>656</td>\n",
       "      <td>andre's french restaurant</td>\n",
       "      <td>las vegas</td>\n",
       "    </tr>\n",
       "    <tr>\n",
       "      <th>28</th>\n",
       "      <td>560</td>\n",
       "      <td>453</td>\n",
       "      <td>2223</td>\n",
       "      <td>san francisco</td>\n",
       "      <td>640</td>\n",
       "      <td>534</td>\n",
       "      <td>apple pan  the</td>\n",
       "      <td>west la</td>\n",
       "    </tr>\n",
       "    <tr>\n",
       "      <th>33</th>\n",
       "      <td>560</td>\n",
       "      <td>453</td>\n",
       "      <td>2223</td>\n",
       "      <td>san francisco</td>\n",
       "      <td>709</td>\n",
       "      <td>603</td>\n",
       "      <td>arcadia</td>\n",
       "      <td>new york city</td>\n",
       "    </tr>\n",
       "    <tr>\n",
       "      <th>40</th>\n",
       "      <td>560</td>\n",
       "      <td>453</td>\n",
       "      <td>2223</td>\n",
       "      <td>san francisco</td>\n",
       "      <td>641</td>\n",
       "      <td>535</td>\n",
       "      <td>asahi ramen</td>\n",
       "      <td>west la</td>\n",
       "    </tr>\n",
       "    <tr>\n",
       "      <th>47</th>\n",
       "      <td>560</td>\n",
       "      <td>453</td>\n",
       "      <td>2223</td>\n",
       "      <td>san francisco</td>\n",
       "      <td>642</td>\n",
       "      <td>536</td>\n",
       "      <td>baja fresh</td>\n",
       "      <td>westlake village</td>\n",
       "    </tr>\n",
       "    <tr>\n",
       "      <th>48</th>\n",
       "      <td>560</td>\n",
       "      <td>453</td>\n",
       "      <td>2223</td>\n",
       "      <td>san francisco</td>\n",
       "      <td>783</td>\n",
       "      <td>677</td>\n",
       "      <td>baker's cajun cafe</td>\n",
       "      <td>atlanta</td>\n",
       "    </tr>\n",
       "  </tbody>\n",
       "</table>\n",
       "</div>"
      ],
      "text/plain": [
       "    id_x  cluster_x name_x         city_x  id_y  cluster_y  \\\n",
       "1    560        453   2223  san francisco   781        675   \n",
       "9    560        453   2223  san francisco   561        454   \n",
       "12   560        453   2223  san francisco   708        602   \n",
       "20   560        453   2223  san francisco   782        676   \n",
       "24   560        453   2223  san francisco   762        656   \n",
       "28   560        453   2223  san francisco   640        534   \n",
       "33   560        453   2223  san francisco   709        603   \n",
       "40   560        453   2223  san francisco   641        535   \n",
       "47   560        453   2223  san francisco   642        536   \n",
       "48   560        453   2223  san francisco   783        677   \n",
       "\n",
       "                       name_y            city_y  \n",
       "1                    103 west           atlanta  \n",
       "9                  acquarello     san francisco  \n",
       "12         afghan kebab house     new york city  \n",
       "20      alon's at the terrace           atlanta  \n",
       "24  andre's french restaurant         las vegas  \n",
       "28             apple pan  the           west la  \n",
       "33                    arcadia     new york city  \n",
       "40                asahi ramen           west la  \n",
       "47                 baja fresh  westlake village  \n",
       "48         baker's cajun cafe           atlanta  "
      ]
     },
     "execution_count": 37,
     "metadata": {},
     "output_type": "execute_result"
    }
   ],
   "source": [
    "# Add your answer to Question 10 here\n",
    "prod_clean = prod[prod.id_x < prod.id_y]\n",
    "prod_clean[:10]\n",
    "\n"
   ]
  },
  {
   "cell_type": "markdown",
   "metadata": {},
   "source": [
    "#### 2. Add a column to the Cartesian product that measures how \"similar\" each pair of records is.\n",
    "\n",
    "In the homework assignment, we used a string similarity metric called *cosine similarity* which measured how many \"tokens\" two strings shared in common.\n",
    "Now, we're going to use an alternative measure of string similarity  called *edit-distance*.\n",
    "[Edit Distance](http://en.wikipedia.org/wiki/Edit_distance) counts the number of simple changes you have to make to a string to turn it into another string.\n",
    "\n",
    "Import the edit distance library:"
   ]
  },
  {
   "cell_type": "code",
   "execution_count": 38,
   "metadata": {},
   "outputs": [
    {
     "data": {
      "text/plain": [
       "1"
      ]
     },
     "execution_count": 38,
     "metadata": {},
     "output_type": "execute_result"
    }
   ],
   "source": [
    "import Levenshtein as L\n",
    "\n",
    "L.distance('Hello, World!', 'Hallo, World!')"
   ]
  },
  {
   "cell_type": "markdown",
   "metadata": {},
   "source": [
    "Next, we add a computed column, named **distance**, that measures the edit distance between the names of two restaurants:"
   ]
  },
  {
   "cell_type": "code",
   "execution_count": 39,
   "metadata": {},
   "outputs": [],
   "source": [
    "# This takes a minute or two to run\n",
    "prod['distance'] = prod.apply(lambda r: L.distance(r['name_x'], r['name_y']), axis=1)"
   ]
  },
  {
   "cell_type": "markdown",
   "metadata": {},
   "source": [
    "#### 3.  Filter the product based on when the join criterion is \"similar enough.\"\n",
    "\n",
    "Now we complete the join by filtering out pairs or records that aren't equal enough for our liking.\n",
    "As in the first homework assignment, we can only figure out how similar is \"similar enough\" by trying out some different options.\n",
    "Let's try maximum edit-distance from 0 to 10 and compute precision and recall."
   ]
  },
  {
   "cell_type": "code",
   "execution_count": 40,
   "metadata": {},
   "outputs": [
    {
     "data": {
      "text/plain": [
       "<matplotlib.legend.Legend at 0x1fd4fa15dc0>"
      ]
     },
     "execution_count": 40,
     "metadata": {},
     "output_type": "execute_result"
    },
    {
     "data": {
      "image/png": "[encoded data removed]",
      "text/plain": [
       "<Figure size 432x288 with 1 Axes>"
      ]
     },
     "metadata": {
      "needs_background": "light"
     },
     "output_type": "display_data"
    }
   ],
   "source": [
    "%matplotlib inline\n",
    "import pylab\n",
    "\n",
    "def accuracy(max_distance):\n",
    "    similar = prod[prod.distance < max_distance]\n",
    "    correct = float(sum(similar.cluster_x == similar.cluster_y))\n",
    "    precision = correct / len(similar)\n",
    "    recall = correct / len(clusters)\n",
    "    return (precision, recall)\n",
    "\n",
    "thresholds = range(1, 11)\n",
    "p = []\n",
    "r = []\n",
    "\n",
    "for t in thresholds:\n",
    "    acc = accuracy(t)\n",
    "    p.append(acc[0])\n",
    "    r.append(acc[1])\n",
    "\n",
    "pylab.plot(thresholds, p)\n",
    "pylab.plot(thresholds, r)\n",
    "pylab.legend(['precision', 'recall'], loc='upper left')"
   ]
  },
  {
   "cell_type": "markdown",
   "metadata": {},
   "source": [
    "TODO\n",
    "> Q11) (OPTIONAL) Another common way to visualize the tradeoff between precision and recall is to plot them directly against each other.\n",
    "Create a scatterplot with precision on one axis and recall on the other.\n",
    "Where are \"good\" points on the plot, and where are \"bad\" ones?\n"
   ]
  },
  {
   "cell_type": "code",
   "execution_count": 41,
   "metadata": {},
   "outputs": [
    {
     "data": {
      "text/plain": [
       "Text(0, 0.5, 'Recall')"
      ]
     },
     "execution_count": 41,
     "metadata": {},
     "output_type": "execute_result"
    },
    {
     "data": {
      "image/png": "[encoded data removed]",
      "text/plain": [
       "<Figure size 432x288 with 1 Axes>"
      ]
     },
     "metadata": {
      "needs_background": "light"
     },
     "output_type": "display_data"
    }
   ],
   "source": [
    "# Add your answer to Question 11 here\n",
    "import matplotlib.pyplot as plt\n",
    "plt.scatter(x = p , y = r)\n",
    "plt.xlabel(\"Precision\")\n",
    "plt.ylabel(\"Recall\")\n",
    "\n",
    "#The more spread out the points are, the weaker the relationship.\n",
    "#If the points are clearly clustered, or closely follow a curve or line, the relationship is described as strong.\n",
    "#In this case the good points are from 0.2 - 0.9 in the x axis. "
   ]
  }
 ],
 "metadata": {
  "kernelspec": {
   "display_name": "Python 3",
   "language": "python",
   "name": "python3"
  },
  "language_info": {
   "codemirror_mode": {
    "name": "ipython",
    "version": 3
   },
   "file_extension": ".py",
   "mimetype": "text/x-python",
   "name": "python",
   "nbconvert_exporter": "python",
   "pygments_lexer": "ipython3",
   "version": "3.8.3"
  }
 },
 "nbformat": 4,
 "nbformat_minor": 1
}
